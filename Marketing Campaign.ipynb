{
 "cells": [
  {
   "cell_type": "code",
   "execution_count": 1,
   "metadata": {},
   "outputs": [
    {
     "data": {
      "text/html": [
       "<div>\n",
       "<style>\n",
       "    .dataframe thead tr:only-child th {\n",
       "        text-align: right;\n",
       "    }\n",
       "\n",
       "    .dataframe thead th {\n",
       "        text-align: left;\n",
       "    }\n",
       "\n",
       "    .dataframe tbody tr th {\n",
       "        vertical-align: top;\n",
       "    }\n",
       "</style>\n",
       "<table border=\"1\" class=\"dataframe\">\n",
       "  <thead>\n",
       "    <tr style=\"text-align: right;\">\n",
       "      <th></th>\n",
       "      <th>tv</th>\n",
       "      <th>web</th>\n",
       "      <th>radio</th>\n",
       "      <th>sales</th>\n",
       "    </tr>\n",
       "  </thead>\n",
       "  <tbody>\n",
       "    <tr>\n",
       "      <th>0</th>\n",
       "      <td>0.916</td>\n",
       "      <td>1.689</td>\n",
       "      <td>0.208</td>\n",
       "      <td>1.204</td>\n",
       "    </tr>\n",
       "    <tr>\n",
       "      <th>1</th>\n",
       "      <td>9.359</td>\n",
       "      <td>1.706</td>\n",
       "      <td>1.071</td>\n",
       "      <td>4.800</td>\n",
       "    </tr>\n",
       "    <tr>\n",
       "      <th>2</th>\n",
       "      <td>5.261</td>\n",
       "      <td>2.538</td>\n",
       "      <td>2.438</td>\n",
       "      <td>3.970</td>\n",
       "    </tr>\n",
       "    <tr>\n",
       "      <th>3</th>\n",
       "      <td>8.682</td>\n",
       "      <td>2.092</td>\n",
       "      <td>1.283</td>\n",
       "      <td>5.212</td>\n",
       "    </tr>\n",
       "    <tr>\n",
       "      <th>4</th>\n",
       "      <td>11.736</td>\n",
       "      <td>1.660</td>\n",
       "      <td>1.800</td>\n",
       "      <td>5.993</td>\n",
       "    </tr>\n",
       "  </tbody>\n",
       "</table>\n",
       "</div>"
      ],
      "text/plain": [
       "       tv    web  radio  sales\n",
       "0   0.916  1.689  0.208  1.204\n",
       "1   9.359  1.706  1.071  4.800\n",
       "2   5.261  2.538  2.438  3.970\n",
       "3   8.682  2.092  1.283  5.212\n",
       "4  11.736  1.660  1.800  5.993"
      ]
     },
     "execution_count": 1,
     "metadata": {},
     "output_type": "execute_result"
    }
   ],
   "source": [
    "import pandas as pd\n",
    "\n",
    "data_df = pd.read_csv('marketing-campaign.csv')\n",
    "data_df.head()"
   ]
  },
  {
   "cell_type": "code",
   "execution_count": 2,
   "metadata": {
    "collapsed": true
   },
   "outputs": [],
   "source": [
    "X = data_df.drop('sales', axis=1).values\n",
    "y = data_df.sales.values"
   ]
  },
  {
   "cell_type": "code",
   "execution_count": 3,
   "metadata": {
    "collapsed": true
   },
   "outputs": [],
   "source": [
    "x = data_df.tv.values\n",
    "y = data_df.sales.values"
   ]
  },
  {
   "cell_type": "code",
   "execution_count": 4,
   "metadata": {},
   "outputs": [
    {
     "name": "stdout",
     "output_type": "stream",
     "text": [
      "Coefficients: [ 0.42063597  1.27867727]\n"
     ]
    }
   ],
   "source": [
    "import numpy as np\n",
    "\n",
    "# Fit a linear regression\n",
    "coefs = np.polyfit(x, y, deg=1)\n",
    "print('Coefficients:', coefs) # [ 0.42063597  1.27867727]\n",
    "\n",
    "# Generate a hundred data points\n",
    "x_values = np.linspace(x.min(), x.max(), num=100)\n",
    "\n",
    "# Compute predictions\n",
    "y_values = np.polyval(coefs, x_values)"
   ]
  },
  {
   "cell_type": "code",
   "execution_count": 5,
   "metadata": {
    "collapsed": true
   },
   "outputs": [],
   "source": [
    "y_pred = np.polyval(coefs, x)"
   ]
  },
  {
   "cell_type": "code",
   "execution_count": 6,
   "metadata": {},
   "outputs": [
    {
     "name": "stdout",
     "output_type": "stream",
     "text": [
      "RSS value: 15.7394814993\n"
     ]
    }
   ],
   "source": [
    "def RSS(y, y_pred):\n",
    "    return np.sum(np.square(y - y_pred))\n",
    "\n",
    "print('RSS value:', RSS(y, y_pred)) # Prints: RSS value: 15.7394814993"
   ]
  },
  {
   "cell_type": "code",
   "execution_count": null,
   "metadata": {
    "collapsed": true
   },
   "outputs": [],
   "source": []
  }
 ],
 "metadata": {
  "kernelspec": {
   "display_name": "Python 3",
   "language": "python",
   "name": "python3"
  },
  "language_info": {
   "codemirror_mode": {
    "name": "ipython",
    "version": 3
   },
   "file_extension": ".py",
   "mimetype": "text/x-python",
   "name": "python",
   "nbconvert_exporter": "python",
   "pygments_lexer": "ipython3",
   "version": "3.6.2"
  }
 },
 "nbformat": 4,
 "nbformat_minor": 2
}
