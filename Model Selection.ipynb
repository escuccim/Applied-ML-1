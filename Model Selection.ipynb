{
 "cells": [
  {
   "cell_type": "code",
   "execution_count": 1,
   "metadata": {},
   "outputs": [
    {
     "data": {
      "text/html": [
       "<div>\n",
       "<style>\n",
       "    .dataframe thead tr:only-child th {\n",
       "        text-align: right;\n",
       "    }\n",
       "\n",
       "    .dataframe thead th {\n",
       "        text-align: left;\n",
       "    }\n",
       "\n",
       "    .dataframe tbody tr th {\n",
       "        vertical-align: top;\n",
       "    }\n",
       "</style>\n",
       "<table border=\"1\" class=\"dataframe\">\n",
       "  <thead>\n",
       "    <tr style=\"text-align: right;\">\n",
       "      <th></th>\n",
       "      <th>temp</th>\n",
       "      <th>users</th>\n",
       "      <th>pred_lr</th>\n",
       "      <th>pred_poly3</th>\n",
       "      <th>pred_huber3</th>\n",
       "    </tr>\n",
       "  </thead>\n",
       "  <tbody>\n",
       "    <tr>\n",
       "      <th>0</th>\n",
       "      <td>0.1508</td>\n",
       "      <td>41</td>\n",
       "      <td>146</td>\n",
       "      <td>44</td>\n",
       "      <td>51</td>\n",
       "    </tr>\n",
       "    <tr>\n",
       "      <th>1</th>\n",
       "      <td>0.1609</td>\n",
       "      <td>54</td>\n",
       "      <td>161</td>\n",
       "      <td>53</td>\n",
       "      <td>52</td>\n",
       "    </tr>\n",
       "    <tr>\n",
       "      <th>2</th>\n",
       "      <td>0.1727</td>\n",
       "      <td>25</td>\n",
       "      <td>178</td>\n",
       "      <td>66</td>\n",
       "      <td>55</td>\n",
       "    </tr>\n",
       "    <tr>\n",
       "      <th>3</th>\n",
       "      <td>0.1775</td>\n",
       "      <td>75</td>\n",
       "      <td>185</td>\n",
       "      <td>72</td>\n",
       "      <td>57</td>\n",
       "    </tr>\n",
       "    <tr>\n",
       "      <th>4</th>\n",
       "      <td>0.1822</td>\n",
       "      <td>74</td>\n",
       "      <td>192</td>\n",
       "      <td>78</td>\n",
       "      <td>60</td>\n",
       "    </tr>\n",
       "  </tbody>\n",
       "</table>\n",
       "</div>"
      ],
      "text/plain": [
       "     temp  users  pred_lr  pred_poly3  pred_huber3\n",
       "0  0.1508     41      146          44           51\n",
       "1  0.1609     54      161          53           52\n",
       "2  0.1727     25      178          66           55\n",
       "3  0.1775     75      185          72           57\n",
       "4  0.1822     74      192          78           60"
      ]
     },
     "execution_count": 1,
     "metadata": {},
     "output_type": "execute_result"
    }
   ],
   "source": [
    "import pandas as pd\n",
    "\n",
    "# Load data\n",
    "data_df = pd.read_csv('bike-sharing-three-models.csv')\n",
    "data_df.head()"
   ]
  },
  {
   "cell_type": "code",
   "execution_count": 2,
   "metadata": {},
   "outputs": [
    {
     "data": {
      "image/png": "[encoded data removed]",
      "text/plain": [
       "<matplotlib.figure.Figure at 0x2439fe370b8>"
      ]
     },
     "metadata": {},
     "output_type": "display_data"
    }
   ],
   "source": [
    "%matplotlib inline\n",
    "import matplotlib.pyplot as plt\n",
    "\n",
    "# Extract variables\n",
    "x = data_df.temp.values\n",
    "y = data_df.users.values\n",
    "\n",
    "# Plot the models\n",
    "plt.scatter(x, y)\n",
    "plt.plot(x, data_df.pred_lr, label='linear regression')\n",
    "plt.plot(x, data_df.pred_poly3, label='polyfit(deg=3)')\n",
    "plt.plot(x, data_df.pred_huber3, label='with Huber loss')\n",
    "plt.legend()\n",
    "plt.show()"
   ]
  },
  {
   "cell_type": "code",
   "execution_count": 3,
   "metadata": {},
   "outputs": [
    {
     "name": "stdout",
     "output_type": "stream",
     "text": [
      "linear regression RMSE: 232.5\n",
      "polyfit(deg=3) RMSE: 210.6\n",
      "with huber loss RMSE: 215.7\n"
     ]
    }
   ],
   "source": [
    "import numpy as np\n",
    "\n",
    "# Root mean squared error\n",
    "def RMSE(y, y_pred):\n",
    "    mse = np.mean(np.square(y - y_pred)) # MSE\n",
    "    return np.sqrt(mse) # RMSE\n",
    "\n",
    "rmse_lr = RMSE(y, data_df.pred_lr)\n",
    "print('linear regression RMSE: {:.1f}'.format(rmse_lr))\n",
    "# Prints: 232.5\n",
    "\n",
    "rmse_poly3 = RMSE(y, data_df.pred_poly3)\n",
    "print('polyfit(deg=3) RMSE: {:.1f}'.format(rmse_poly3))\n",
    "# Prints: 210.6\n",
    "\n",
    "rmse_huber3 = RMSE(y, data_df.pred_huber3)\n",
    "print('with huber loss RMSE: {:.1f}'.format(rmse_huber3))\n",
    "# Prints: 215.7"
   ]
  },
  {
   "cell_type": "code",
   "execution_count": 4,
   "metadata": {},
   "outputs": [
    {
     "name": "stdout",
     "output_type": "stream",
     "text": [
      "linear regression MAE: 186.6\n",
      "polyfit(deg=3) MAE: 161.7\n",
      "with huber loss MAE: 164.8\n"
     ]
    }
   ],
   "source": [
    "import numpy as np\n",
    "\n",
    "# Mean absolute error\n",
    "def MAE(y, y_pred):\n",
    "    return np.mean(np.abs(y - y_pred))\n",
    "\n",
    "mae_lr = MAE(y, data_df.pred_lr)\n",
    "print('linear regression MAE: {:.1f}'.format(mae_lr)) # Prints: 186.6\n",
    "\n",
    "mae_poly3 = MAE(y, data_df.pred_poly3)\n",
    "print('polyfit(deg=3) MAE: {:.1f}'.format(mae_poly3)) # Prints: 161.7\n",
    "\n",
    "mae_huber3 = MAE(y, data_df.pred_huber3)\n",
    "print('with huber loss MAE: {:.1f}'.format(mae_huber3)) # Prints: 164.8"
   ]
  },
  {
   "cell_type": "code",
   "execution_count": 5,
   "metadata": {},
   "outputs": [
    {
     "data": {
      "text/plain": [
       "371.11459394676217"
      ]
     },
     "execution_count": 5,
     "metadata": {},
     "output_type": "execute_result"
    }
   ],
   "source": [
    "pred_baseline = np.mean(y) # equals to 674.7218543\n",
    "rmse_baseline = RMSE(y, pred_baseline)\n",
    "rmse_baseline # Returns: 371.11459394676217"
   ]
  },
  {
   "cell_type": "code",
   "execution_count": 6,
   "metadata": {},
   "outputs": [
    {
     "data": {
      "text/plain": [
       "array([ 674.7218543,  674.7218543,  674.7218543,  674.7218543,\n",
       "        674.7218543,  674.7218543,  674.7218543,  674.7218543,\n",
       "        674.7218543,  674.7218543,  674.7218543,  674.7218543,\n",
       "        674.7218543,  674.7218543,  674.7218543,  674.7218543,\n",
       "        674.7218543,  674.7218543,  674.7218543,  674.7218543,\n",
       "        674.7218543,  674.7218543,  674.7218543,  674.7218543,\n",
       "        674.7218543,  674.7218543,  674.7218543,  674.7218543,\n",
       "        674.7218543,  674.7218543,  674.7218543,  674.7218543,\n",
       "        674.7218543,  674.7218543,  674.7218543,  674.7218543,\n",
       "        674.7218543,  674.7218543,  674.7218543,  674.7218543,\n",
       "        674.7218543,  674.7218543,  674.7218543,  674.7218543,\n",
       "        674.7218543,  674.7218543,  674.7218543,  674.7218543,\n",
       "        674.7218543,  674.7218543,  674.7218543,  674.7218543,\n",
       "        674.7218543,  674.7218543,  674.7218543,  674.7218543,\n",
       "        674.7218543,  674.7218543,  674.7218543,  674.7218543,\n",
       "        674.7218543,  674.7218543,  674.7218543,  674.7218543,\n",
       "        674.7218543,  674.7218543,  674.7218543,  674.7218543,\n",
       "        674.7218543,  674.7218543,  674.7218543,  674.7218543,\n",
       "        674.7218543,  674.7218543,  674.7218543,  674.7218543,\n",
       "        674.7218543,  674.7218543,  674.7218543,  674.7218543,\n",
       "        674.7218543,  674.7218543,  674.7218543,  674.7218543,\n",
       "        674.7218543,  674.7218543,  674.7218543,  674.7218543,\n",
       "        674.7218543,  674.7218543,  674.7218543,  674.7218543,\n",
       "        674.7218543,  674.7218543,  674.7218543,  674.7218543,\n",
       "        674.7218543,  674.7218543,  674.7218543,  674.7218543,\n",
       "        674.7218543,  674.7218543,  674.7218543,  674.7218543,\n",
       "        674.7218543,  674.7218543,  674.7218543,  674.7218543,\n",
       "        674.7218543,  674.7218543,  674.7218543,  674.7218543,\n",
       "        674.7218543,  674.7218543,  674.7218543,  674.7218543,\n",
       "        674.7218543,  674.7218543,  674.7218543,  674.7218543,\n",
       "        674.7218543,  674.7218543,  674.7218543,  674.7218543,\n",
       "        674.7218543,  674.7218543,  674.7218543,  674.7218543,\n",
       "        674.7218543,  674.7218543,  674.7218543,  674.7218543,\n",
       "        674.7218543,  674.7218543,  674.7218543,  674.7218543,\n",
       "        674.7218543,  674.7218543,  674.7218543,  674.7218543,\n",
       "        674.7218543,  674.7218543,  674.7218543,  674.7218543,\n",
       "        674.7218543,  674.7218543,  674.7218543,  674.7218543,\n",
       "        674.7218543,  674.7218543,  674.7218543])"
      ]
     },
     "execution_count": 6,
     "metadata": {},
     "output_type": "execute_result"
    }
   ],
   "source": [
    "pred_baseline = np.full_like(y, fill_value=np.mean(y), dtype=np.float)\n",
    "pred_baseline # Returns: array([ 674.7218543, 674.7218543,  "
   ]
  },
  {
   "cell_type": "code",
   "execution_count": 7,
   "metadata": {
    "collapsed": true
   },
   "outputs": [],
   "source": [
    "from sklearn.dummy import DummyRegressor\n",
    "\n",
    "# Create the DummyRegressor object\n",
    "dummy = DummyRegressor(strategy='mean')"
   ]
  },
  {
   "cell_type": "code",
   "execution_count": 8,
   "metadata": {},
   "outputs": [
    {
     "data": {
      "text/plain": [
       "DummyRegressor(constant=None, quantile=None, strategy='mean')"
      ]
     },
     "execution_count": 8,
     "metadata": {},
     "output_type": "execute_result"
    }
   ],
   "source": [
    "dummy.fit(x[:, np.newaxis], y)"
   ]
  },
  {
   "cell_type": "code",
   "execution_count": 9,
   "metadata": {},
   "outputs": [
    {
     "data": {
      "text/plain": [
       "371.11459394676217"
      ]
     },
     "execution_count": 9,
     "metadata": {},
     "output_type": "execute_result"
    }
   ],
   "source": [
    "pred_baseline = dummy.predict(x[:, np.newaxis])\n",
    "\n",
    "rmse_baseline = RMSE(y, pred_baseline)\n",
    "rmse_baseline # Returns: 371.11459394676217"
   ]
  },
  {
   "cell_type": "code",
   "execution_count": 10,
   "metadata": {},
   "outputs": [
    {
     "data": {
      "image/png": "[encoded data removed]",
      "text/plain": [
       "<matplotlib.figure.Figure at 0x243a0727518>"
      ]
     },
     "metadata": {},
     "output_type": "display_data"
    }
   ],
   "source": [
    "%matplotlib inline\n",
    "import matplotlib.pyplot as plt\n",
    "\n",
    "# Bar chart\n",
    "plt.bar([1, 2, 3, 4], [rmse_baseline, rmse_lr, rmse_poly3, rmse_huber3])\n",
    "plt.xticks([1, 2, 3, 4], ['baseline (mean)', 'linreg', 'poly3', 'huber3'])\n",
    "plt.show()"
   ]
  },
  {
   "cell_type": "code",
   "execution_count": null,
   "metadata": {
    "collapsed": true
   },
   "outputs": [],
   "source": []
  }
 ],
 "metadata": {
  "kernelspec": {
   "display_name": "Python 3",
   "language": "python",
   "name": "python3"
  },
  "language_info": {
   "codemirror_mode": {
    "name": "ipython",
    "version": 3
   },
   "file_extension": ".py",
   "mimetype": "text/x-python",
   "name": "python",
   "nbconvert_exporter": "python",
   "pygments_lexer": "ipython3",
   "version": "3.6.2"
  }
 },
 "nbformat": 4,
 "nbformat_minor": 2
}
