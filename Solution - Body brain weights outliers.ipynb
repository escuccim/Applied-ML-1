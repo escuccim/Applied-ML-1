{
 "cells": [
  {
   "cell_type": "markdown",
   "metadata": {},
   "source": [
    "# SOLUTION NOTEBOOK\n",
    "\n",
    "---"
   ]
  },
  {
   "cell_type": "markdown",
   "metadata": {},
   "source": [
    "# Body brain weights outliers"
   ]
  },
  {
   "cell_type": "markdown",
   "metadata": {},
   "source": [
    "## Exercise: Load an plot the data\n",
    "\n",
    "> **Exercise**: Load the data set into a `data_df` DataFrame. Load the `body` and `brain` columns into x/y Numpy arrays. Apply the Numpy `log()` function to both variables, store the result in a `x_log` and a `y_log` variable, and plot them.\n",
    "\n",
    "**Self-assessment**: You should get a result similar to this one.\n",
    "\n",
    "<img src=\"figures/body-brain-plot.png\" width=\"350px\" />"
   ]
  },
  {
   "cell_type": "code",
   "execution_count": 1,
   "metadata": {},
   "outputs": [
    {
     "data": {
      "text/html": [
       "<div>\n",
       "<style>\n",
       "    .dataframe thead tr:only-child th {\n",
       "        text-align: right;\n",
       "    }\n",
       "\n",
       "    .dataframe thead th {\n",
       "        text-align: left;\n",
       "    }\n",
       "\n",
       "    .dataframe tbody tr th {\n",
       "        vertical-align: top;\n",
       "    }\n",
       "</style>\n",
       "<table border=\"1\" class=\"dataframe\">\n",
       "  <thead>\n",
       "    <tr style=\"text-align: right;\">\n",
       "      <th></th>\n",
       "      <th>body</th>\n",
       "      <th>brain</th>\n",
       "      <th>label</th>\n",
       "    </tr>\n",
       "  </thead>\n",
       "  <tbody>\n",
       "    <tr>\n",
       "      <th>0</th>\n",
       "      <td>5.0</td>\n",
       "      <td>0.1</td>\n",
       "      <td>Lesser short-tailed shrew</td>\n",
       "    </tr>\n",
       "    <tr>\n",
       "      <th>1</th>\n",
       "      <td>10.0</td>\n",
       "      <td>0.2</td>\n",
       "      <td>Little brown bat</td>\n",
       "    </tr>\n",
       "    <tr>\n",
       "      <th>2</th>\n",
       "      <td>23.0</td>\n",
       "      <td>0.3</td>\n",
       "      <td>Big brown bat</td>\n",
       "    </tr>\n",
       "    <tr>\n",
       "      <th>3</th>\n",
       "      <td>23.0</td>\n",
       "      <td>0.4</td>\n",
       "      <td>Mouse</td>\n",
       "    </tr>\n",
       "    <tr>\n",
       "      <th>4</th>\n",
       "      <td>48.0</td>\n",
       "      <td>0.3</td>\n",
       "      <td>Musk shrew</td>\n",
       "    </tr>\n",
       "  </tbody>\n",
       "</table>\n",
       "</div>"
      ],
      "text/plain": [
       "   body  brain                      label\n",
       "0   5.0    0.1  Lesser short-tailed shrew\n",
       "1  10.0    0.2           Little brown bat\n",
       "2  23.0    0.3              Big brown bat\n",
       "3  23.0    0.4                      Mouse\n",
       "4  48.0    0.3                 Musk shrew"
      ]
     },
     "execution_count": 1,
     "metadata": {},
     "output_type": "execute_result"
    }
   ],
   "source": [
    "import pandas as pd\n",
    "import os\n",
    "\n",
    "# Load data set\n",
    "data_df = pd.read_csv(os.path.join('data', 'brain-and-body-weights.csv'))\n",
    "\n",
    "# Display first five rows\n",
    "data_df.head()"
   ]
  },
  {
   "cell_type": "code",
   "execution_count": 2,
   "metadata": {
    "collapsed": true
   },
   "outputs": [],
   "source": [
    "import numpy as np\n",
    "\n",
    "# Create x/y Numpy arrays\n",
    "x = data_df.body.values\n",
    "y = data_df.brain.values\n",
    "\n",
    "# Apply logarithmic scale\n",
    "x_log = np.log(x)\n",
    "y_log = np.log(y)"
   ]
  },
  {
   "cell_type": "code",
   "execution_count": 3,
   "metadata": {},
   "outputs": [
    {
     "data": {
      "image/png": "[encoded data removed]",
      "text/plain": [
       "<matplotlib.figure.Figure at 0x10dfdd400>"
      ]
     },
     "metadata": {},
     "output_type": "display_data"
    }
   ],
   "source": [
    "%matplotlib inline\n",
    "import matplotlib.pyplot as plt\n",
    "\n",
    "# Plot the x and y variables\n",
    "plt.scatter(x_log, y_log)\n",
    "plt.xlabel('log(body weight)')\n",
    "plt.ylabel('log(brain weight)')\n",
    "plt.show()"
   ]
  },
  {
   "cell_type": "markdown",
   "metadata": {},
   "source": [
    "## Exercise: Filter outliers and fit a linear regression\n",
    "\n",
    "> **Exercise**: (A) Fit a linear regression to `x_log` and `y_log`. (B) Filter the three outliers. (C) Fit another linear regression. (D) Visually compare the two models by plotting their prediction lines."
   ]
  },
  {
   "cell_type": "code",
   "execution_count": 4,
   "metadata": {},
   "outputs": [
    {
     "data": {
      "image/png": "[encoded data removed]",
      "text/plain": [
       "<matplotlib.figure.Figure at 0x1116f8240>"
      ]
     },
     "metadata": {},
     "output_type": "display_data"
    }
   ],
   "source": [
    "# (A) Fit a linear regression using all the data points\n",
    "coefs_lr1 = np.polyfit(x_log, y_log, deg=1)\n",
    "\n",
    "# (B) Filter the three outliers\n",
    "idx = ((x_log > 15) & (y_log < 6))\n",
    "x2_log, y2_log = x_log[~idx], y_log[~idx]\n",
    "\n",
    "# (C) Fit a linear regression using the rest of the data points\n",
    "coefs_lr2 = np.polyfit(x2_log, y2_log, deg=1)\n",
    "\n",
    "# (D) Compare the two models\n",
    "x_values = np.linspace(min(x2_log), max(x2_log), num=100)\n",
    "y_values_lr1 = np.polyval(coefs_lr1, x_values)\n",
    "y_values_lr2 = np.polyval(coefs_lr2, x_values)\n",
    "\n",
    "plt.scatter(x_log, y_log)\n",
    "plt.plot(x_values, y_values_lr1, label='with outliers')\n",
    "plt.plot(x_values, y_values_lr2, label='without')\n",
    "plt.legend()\n",
    "plt.xlabel('log(body weight)')\n",
    "plt.ylabel('log(brain weight)')\n",
    "plt.show()"
   ]
  },
  {
   "cell_type": "markdown",
   "metadata": {},
   "source": [
    "## Exercise: Fit a linear regression using Huber loss\n",
    "\n",
    "> **Exercise**: Fit a linear regression to `x_log` and `y_log` using Huber loss. Plot the prediction line.\n",
    "\n",
    "**Self-assessment**: You should get a result close to the linear regression without outliers."
   ]
  },
  {
   "cell_type": "code",
   "execution_count": 5,
   "metadata": {},
   "outputs": [
    {
     "data": {
      "image/png": "[encoded data removed]",
      "text/plain": [
       "<matplotlib.figure.Figure at 0x1137ac438>"
      ]
     },
     "metadata": {},
     "output_type": "display_data"
    }
   ],
   "source": [
    "from sklearn.linear_model import HuberRegressor\n",
    "\n",
    "# Create object\n",
    "lr_huber = HuberRegressor(epsilon=1.1)\n",
    "\n",
    "# Fit it\n",
    "lr_huber.fit(x_log[:, np.newaxis], y_log)\n",
    "\n",
    "# Compute predictions\n",
    "y_values_huber = lr_huber.predict(x_values[:, np.newaxis])\n",
    "\n",
    "# Plot the prediction line\n",
    "plt.scatter(x_log, y_log)\n",
    "plt.plot(x_values, y_values_lr2, label='lr without outliers')\n",
    "plt.plot(x_values, y_values_huber, label='huber loss')\n",
    "plt.xlabel('log(body weight)')\n",
    "plt.ylabel('log(brain weight)')\n",
    "plt.legend()\n",
    "plt.show()"
   ]
  },
  {
   "cell_type": "markdown",
   "metadata": {},
   "source": [
    "## Exercise: Comptue the *Encephalization Quotient (EQ)*\n",
    "\n",
    "We saw that the equation of a simple linear regression $y=ax+b$ is equivalent to $y=cx^{a}$ where $c=e^{b}$ when $x$ and $y$ are on a logarithmic scale. In our example, we can use this equation to calculate the **Encephalization Quotient (EQ)**.\n",
    "\n",
    "The idea is to compute estimations of brain weights for each data point using $\\hat{y}=cx^{a}$ and compare them to the actual brain weight. The EQ coefficient is defined as\n",
    "\n",
    "$$\n",
    "\\text{EQ}=\\frac{y}{\\hat{y}}\n",
    "$$\n",
    "\n",
    "> **Exercise**: (A) Create the `a` and `c` values using the coefficients of the linear regression model without outliers. (B) Compute the estimated brain weights $\\hat{y}$. (C) Compute the EQ values and add them to the `data_df` DataFrame. (D) Print the five rows with the largest quotients.\n",
    "\n",
    "**Self-assessment**: You should see humans and monkeys in the first places - humans with an EQ around 7."
   ]
  },
  {
   "cell_type": "code",
   "execution_count": 6,
   "metadata": {},
   "outputs": [
    {
     "name": "stdout",
     "output_type": "stream",
     "text": [
      "brain = 0.044*body^0.758\n"
     ]
    },
    {
     "data": {
      "text/html": [
       "<div>\n",
       "<style>\n",
       "    .dataframe thead tr:only-child th {\n",
       "        text-align: right;\n",
       "    }\n",
       "\n",
       "    .dataframe thead th {\n",
       "        text-align: left;\n",
       "    }\n",
       "\n",
       "    .dataframe tbody tr th {\n",
       "        vertical-align: top;\n",
       "    }\n",
       "</style>\n",
       "<table border=\"1\" class=\"dataframe\">\n",
       "  <thead>\n",
       "    <tr style=\"text-align: right;\">\n",
       "      <th></th>\n",
       "      <th>body</th>\n",
       "      <th>brain</th>\n",
       "      <th>label</th>\n",
       "      <th>EQ</th>\n",
       "    </tr>\n",
       "  </thead>\n",
       "  <tbody>\n",
       "    <tr>\n",
       "      <th>49</th>\n",
       "      <td>62000.0</td>\n",
       "      <td>1320.0</td>\n",
       "      <td>Human</td>\n",
       "      <td>6.960230</td>\n",
       "    </tr>\n",
       "    <tr>\n",
       "      <th>39</th>\n",
       "      <td>6800.0</td>\n",
       "      <td>179.0</td>\n",
       "      <td>Rhesus monkey</td>\n",
       "      <td>5.044836</td>\n",
       "    </tr>\n",
       "    <tr>\n",
       "      <th>41</th>\n",
       "      <td>10550.0</td>\n",
       "      <td>179.5</td>\n",
       "      <td>Baboon</td>\n",
       "      <td>3.625807</td>\n",
       "    </tr>\n",
       "    <tr>\n",
       "      <th>14</th>\n",
       "      <td>480.0</td>\n",
       "      <td>15.5</td>\n",
       "      <td>Owl monkey</td>\n",
       "      <td>3.261447</td>\n",
       "    </tr>\n",
       "    <tr>\n",
       "      <th>7</th>\n",
       "      <td>101.0</td>\n",
       "      <td>4.0</td>\n",
       "      <td>Ground squirrel</td>\n",
       "      <td>2.744688</td>\n",
       "    </tr>\n",
       "  </tbody>\n",
       "</table>\n",
       "</div>"
      ],
      "text/plain": [
       "       body   brain            label        EQ\n",
       "49  62000.0  1320.0            Human  6.960230\n",
       "39   6800.0   179.0    Rhesus monkey  5.044836\n",
       "41  10550.0   179.5           Baboon  3.625807\n",
       "14    480.0    15.5       Owl monkey  3.261447\n",
       "7     101.0     4.0  Ground squirrel  2.744688"
      ]
     },
     "execution_count": 6,
     "metadata": {},
     "output_type": "execute_result"
    }
   ],
   "source": [
    "# (A) Create a and c values\n",
    "a, b = coefs_lr2\n",
    "c = np.exp(b)\n",
    "print('brain = {:.3f}*body^{:.3f}'.format(c, a))\n",
    "\n",
    "# (B) Compute predicted brain weights\n",
    "y_pred = c*x**(a)\n",
    "\n",
    "# (C) Compute EQ\n",
    "data_df['EQ'] = y/y_pred\n",
    "\n",
    "# (D) Print the five largest quotients\n",
    "data_df.sort_values(by='EQ', ascending=False).head()"
   ]
  }
 ],
 "metadata": {
  "kernelspec": {
   "display_name": "Python 3",
   "language": "python",
   "name": "python3"
  },
  "language_info": {
   "codemirror_mode": {
    "name": "ipython",
    "version": 3
   },
   "file_extension": ".py",
   "mimetype": "text/x-python",
   "name": "python",
   "nbconvert_exporter": "python",
   "pygments_lexer": "ipython3",
   "version": "3.6.2"
  }
 },
 "nbformat": 4,
 "nbformat_minor": 2
}
