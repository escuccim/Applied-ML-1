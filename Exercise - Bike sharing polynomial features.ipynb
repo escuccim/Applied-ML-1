{
 "cells": [
  {
   "cell_type": "markdown",
   "metadata": {},
   "source": [
    "# Bike sharing polynomial features"
   ]
  },
  {
   "cell_type": "markdown",
   "metadata": {},
   "source": [
    "## Exercise - Load and split the data, set the baseline\n",
    "\n",
    "> **Exercise**: Load the data set. Encode categorical variables with one-hot encoding. Split the data into train/test sets with the `train_test_split()` function from Scikit-learn (50-50 split, `random_state=0`). Fit a linear regression and compare its performance to the median baseline using the mean absolute error (MAE) measure."
   ]
  },
  {
   "cell_type": "code",
   "execution_count": 4,
   "metadata": {},
   "outputs": [],
   "source": [
    "import pandas as pd\n",
    "import numpy as np\n",
    "import matplotlib.pyplot as plt\n",
    "from sklearn.model_selection import train_test_split\n",
    "\n",
    "# Load data\n",
    "data = pd.read_csv(\"data/bike-sharing.csv\")\n",
    "data = pd.get_dummies(data, columns=['weekday', 'season', 'weathersit'])\n",
    "y = data.casual\n",
    "x = data.drop(\"casual\",axis=1)\n",
    "\n",
    "x_tr, x_te, y_tr, y_te = train_test_split(x, y, train_size=0.5, test_size=0.4, random_state=0)"
   ]
  },
  {
   "cell_type": "code",
   "execution_count": 15,
   "metadata": {},
   "outputs": [
    {
     "data": {
      "text/html": [
       "<div>\n",
       "<style>\n",
       "    .dataframe thead tr:only-child th {\n",
       "        text-align: right;\n",
       "    }\n",
       "\n",
       "    .dataframe thead th {\n",
       "        text-align: left;\n",
       "    }\n",
       "\n",
       "    .dataframe tbody tr th {\n",
       "        vertical-align: top;\n",
       "    }\n",
       "</style>\n",
       "<table border=\"1\" class=\"dataframe\">\n",
       "  <thead>\n",
       "    <tr style=\"text-align: right;\">\n",
       "      <th></th>\n",
       "      <th>temp</th>\n",
       "      <th>hum</th>\n",
       "      <th>windspeed</th>\n",
       "      <th>yr</th>\n",
       "      <th>workingday</th>\n",
       "      <th>holiday</th>\n",
       "      <th>weekday_0</th>\n",
       "      <th>weekday_1</th>\n",
       "      <th>weekday_2</th>\n",
       "      <th>weekday_3</th>\n",
       "      <th>weekday_4</th>\n",
       "      <th>weekday_5</th>\n",
       "      <th>weekday_6</th>\n",
       "      <th>season_1</th>\n",
       "      <th>season_2</th>\n",
       "      <th>season_3</th>\n",
       "      <th>season_4</th>\n",
       "      <th>weathersit_1</th>\n",
       "      <th>weathersit_2</th>\n",
       "      <th>weathersit_3</th>\n",
       "    </tr>\n",
       "  </thead>\n",
       "  <tbody>\n",
       "    <tr>\n",
       "      <th>107</th>\n",
       "      <td>0.512</td>\n",
       "      <td>0.542</td>\n",
       "      <td>0.164</td>\n",
       "      <td>0</td>\n",
       "      <td>1</td>\n",
       "      <td>0</td>\n",
       "      <td>0</td>\n",
       "      <td>1</td>\n",
       "      <td>0</td>\n",
       "      <td>0</td>\n",
       "      <td>0</td>\n",
       "      <td>0</td>\n",
       "      <td>0</td>\n",
       "      <td>0</td>\n",
       "      <td>1</td>\n",
       "      <td>0</td>\n",
       "      <td>0</td>\n",
       "      <td>1</td>\n",
       "      <td>0</td>\n",
       "      <td>0</td>\n",
       "    </tr>\n",
       "    <tr>\n",
       "      <th>133</th>\n",
       "      <td>0.521</td>\n",
       "      <td>0.922</td>\n",
       "      <td>0.135</td>\n",
       "      <td>0</td>\n",
       "      <td>0</td>\n",
       "      <td>0</td>\n",
       "      <td>0</td>\n",
       "      <td>0</td>\n",
       "      <td>0</td>\n",
       "      <td>0</td>\n",
       "      <td>0</td>\n",
       "      <td>0</td>\n",
       "      <td>1</td>\n",
       "      <td>0</td>\n",
       "      <td>1</td>\n",
       "      <td>0</td>\n",
       "      <td>0</td>\n",
       "      <td>0</td>\n",
       "      <td>1</td>\n",
       "      <td>0</td>\n",
       "    </tr>\n",
       "    <tr>\n",
       "      <th>418</th>\n",
       "      <td>0.454</td>\n",
       "      <td>0.555</td>\n",
       "      <td>0.191</td>\n",
       "      <td>1</td>\n",
       "      <td>1</td>\n",
       "      <td>0</td>\n",
       "      <td>0</td>\n",
       "      <td>0</td>\n",
       "      <td>0</td>\n",
       "      <td>0</td>\n",
       "      <td>1</td>\n",
       "      <td>0</td>\n",
       "      <td>0</td>\n",
       "      <td>1</td>\n",
       "      <td>0</td>\n",
       "      <td>0</td>\n",
       "      <td>0</td>\n",
       "      <td>1</td>\n",
       "      <td>0</td>\n",
       "      <td>0</td>\n",
       "    </tr>\n",
       "    <tr>\n",
       "      <th>223</th>\n",
       "      <td>0.708</td>\n",
       "      <td>0.415</td>\n",
       "      <td>0.126</td>\n",
       "      <td>0</td>\n",
       "      <td>1</td>\n",
       "      <td>0</td>\n",
       "      <td>0</td>\n",
       "      <td>0</td>\n",
       "      <td>0</td>\n",
       "      <td>0</td>\n",
       "      <td>0</td>\n",
       "      <td>1</td>\n",
       "      <td>0</td>\n",
       "      <td>0</td>\n",
       "      <td>0</td>\n",
       "      <td>1</td>\n",
       "      <td>0</td>\n",
       "      <td>1</td>\n",
       "      <td>0</td>\n",
       "      <td>0</td>\n",
       "    </tr>\n",
       "    <tr>\n",
       "      <th>549</th>\n",
       "      <td>0.781</td>\n",
       "      <td>0.492</td>\n",
       "      <td>0.126</td>\n",
       "      <td>1</td>\n",
       "      <td>1</td>\n",
       "      <td>0</td>\n",
       "      <td>0</td>\n",
       "      <td>0</td>\n",
       "      <td>1</td>\n",
       "      <td>0</td>\n",
       "      <td>0</td>\n",
       "      <td>0</td>\n",
       "      <td>0</td>\n",
       "      <td>0</td>\n",
       "      <td>0</td>\n",
       "      <td>1</td>\n",
       "      <td>0</td>\n",
       "      <td>1</td>\n",
       "      <td>0</td>\n",
       "      <td>0</td>\n",
       "    </tr>\n",
       "  </tbody>\n",
       "</table>\n",
       "</div>"
      ],
      "text/plain": [
       "      temp    hum  windspeed  yr  workingday  holiday  weekday_0  weekday_1  \\\n",
       "107  0.512  0.542      0.164   0           1        0          0          1   \n",
       "133  0.521  0.922      0.135   0           0        0          0          0   \n",
       "418  0.454  0.555      0.191   1           1        0          0          0   \n",
       "223  0.708  0.415      0.126   0           1        0          0          0   \n",
       "549  0.781  0.492      0.126   1           1        0          0          0   \n",
       "\n",
       "     weekday_2  weekday_3  weekday_4  weekday_5  weekday_6  season_1  \\\n",
       "107          0          0          0          0          0         0   \n",
       "133          0          0          0          0          1         0   \n",
       "418          0          0          1          0          0         1   \n",
       "223          0          0          0          1          0         0   \n",
       "549          1          0          0          0          0         0   \n",
       "\n",
       "     season_2  season_3  season_4  weathersit_1  weathersit_2  weathersit_3  \n",
       "107         1         0         0             1             0             0  \n",
       "133         1         0         0             0             1             0  \n",
       "418         0         0         0             1             0             0  \n",
       "223         0         1         0             1             0             0  \n",
       "549         0         1         0             1             0             0  "
      ]
     },
     "execution_count": 15,
     "metadata": {},
     "output_type": "execute_result"
    }
   ],
   "source": [
    "x_tr.head()"
   ]
  },
  {
   "cell_type": "code",
   "execution_count": null,
   "metadata": {
    "collapsed": true
   },
   "outputs": [],
   "source": []
  },
  {
   "cell_type": "code",
   "execution_count": 8,
   "metadata": {
    "collapsed": true
   },
   "outputs": [],
   "source": [
    "import numpy as np\n",
    "\n",
    "# Mean absolute error (MAE)\n",
    "def MAE(y, y_pred):\n",
    "    return np.mean(np.abs(y - y_pred))"
   ]
  },
  {
   "cell_type": "code",
   "execution_count": 9,
   "metadata": {},
   "outputs": [
    {
     "data": {
      "text/plain": [
       "DummyRegressor(constant=None, quantile=None, strategy='mean')"
      ]
     },
     "execution_count": 9,
     "metadata": {},
     "output_type": "execute_result"
    }
   ],
   "source": [
    "from sklearn.dummy import DummyRegressor\n",
    "\n",
    "# Create the DummyRegressor object\n",
    "dummy = DummyRegressor(strategy='mean')\n",
    "dummy.fit(x_tr, y_tr)"
   ]
  },
  {
   "cell_type": "code",
   "execution_count": null,
   "metadata": {
    "collapsed": true
   },
   "outputs": [],
   "source": []
  },
  {
   "cell_type": "code",
   "execution_count": 14,
   "metadata": {},
   "outputs": [
    {
     "name": "stdout",
     "output_type": "stream",
     "text": [
      "MAE baseline: 510.568\n",
      "MAE linear regression: 258.312\n"
     ]
    }
   ],
   "source": [
    "# Median baseline\n",
    "pred_baseline = dummy.predict(x_te)\n",
    "mae_baseline = MAE(y_te, pred_baseline)\n",
    "\n",
    "# Linear regression\n",
    "from sklearn.linear_model import LinearRegression\n",
    "\n",
    "# Create linear regression\n",
    "linreg = LinearRegression()\n",
    "\n",
    "# Fit it\n",
    "linreg.fit(x_tr, y_tr)\n",
    "y_pred = linreg.predict(x_te)\n",
    "mae_lr = MAE(y_te, y_pred)\n",
    "\n",
    "print('MAE baseline: {:.3f}'.format(mae_baseline))\n",
    "print('MAE linear regression: {:.3f}'.format(mae_lr))"
   ]
  },
  {
   "cell_type": "code",
   "execution_count": null,
   "metadata": {
    "collapsed": true
   },
   "outputs": [],
   "source": []
  },
  {
   "cell_type": "markdown",
   "metadata": {},
   "source": [
    "## Exercise - Add polynomial features\n",
    "\n",
    "> **Exercise**: Add the `temp^2` and `temp^3` polynomial features. Then fit and evaluate a linear regression. Plot your model with a scatter plot of temperatures vs. number of users. Feel free to add other features."
   ]
  },
  {
   "cell_type": "code",
   "execution_count": 30,
   "metadata": {
    "collapsed": true
   },
   "outputs": [],
   "source": [
    "def create_features(df):\n",
    "    temp = df.temp.values\n",
    "    others = df.drop(['temp'], axis=1).values\n",
    "    return np.c_[temp, temp**2, temp**3, others]"
   ]
  },
  {
   "cell_type": "code",
   "execution_count": null,
   "metadata": {
    "collapsed": true
   },
   "outputs": [],
   "source": []
  },
  {
   "cell_type": "code",
   "execution_count": 34,
   "metadata": {},
   "outputs": [
    {
     "name": "stdout",
     "output_type": "stream",
     "text": [
      "MAE lr with new features: 239.349\n"
     ]
    }
   ],
   "source": [
    "# Add polynomial features\n",
    "X_tr2 = create_features(x_tr)\n",
    "X_te2 = create_features(x_te)\n",
    "\n",
    "# Fit a linear regression\n",
    "lr2 = LinearRegression()\n",
    "lr2.fit(X_tr2, y_tr)\n",
    "y_pred2 = lr2.predict(X_te2)\n",
    "mae_lr2 = MAE(y_te, y_pred2)\n",
    "print('MAE lr with new features: {:.3f}'.format(mae_lr2))"
   ]
  },
  {
   "cell_type": "code",
   "execution_count": 37,
   "metadata": {},
   "outputs": [
    {
     "data": {
      "image/png": "[encoded data removed]",
      "text/plain": [
       "<matplotlib.figure.Figure at 0x1ee82d7e828>"
      ]
     },
     "metadata": {},
     "output_type": "display_data"
    }
   ],
   "source": [
    "# Plot predictions\n",
    "%matplotlib inline\n",
    "\n",
    "plt.scatter(x_te.temp, y_te, s=10, label='test points')\n",
    "plt.scatter(x_te.temp, y_pred2, s=10, label='lr with new features')\n",
    "plt.legend()\n",
    "plt.show()"
   ]
  },
  {
   "cell_type": "code",
   "execution_count": null,
   "metadata": {
    "collapsed": true
   },
   "outputs": [],
   "source": []
  },
  {
   "cell_type": "markdown",
   "metadata": {},
   "source": [
    "## Exercise - Separate sources\n",
    "\n",
    "In the last exercise, we saw that we can identify two sources in the data.\n",
    "\n",
    "1. Data points collected during working days\n",
    "1. Data points collected during non-working days\n",
    "\n",
    "The goal of this exercise is to create a model for each source using your extended set of features, e.g., the original features plus the `temp^2`, `temp^3` polynomial features.\n",
    "\n",
    "> **Exercise**: Create a model for each source with the extended set of features, and evaluate the overall performance on the test set using MAE. Plot the two models with a scatter plot of temperatures vs. number of users. Create a final comparison using a bar chart."
   ]
  },
  {
   "cell_type": "code",
   "execution_count": 45,
   "metadata": {
    "collapsed": true
   },
   "outputs": [],
   "source": [
    "# Separate data points\n",
    "x_tr_wd = x_tr[x_tr.workingday == 1]\n",
    "x_tr_nwd = x_tr[x_tr.workingday != 1]\n",
    "y_tr_wd = y_tr[x_tr.workingday == 1]\n",
    "y_tr_nwd = y_tr[x_tr.workingday != 1]\n",
    "x_te_wd = x_te[x_te.workingday == 1]\n",
    "x_te_nwd = x_te[x_te.workingday != 1]\n",
    "y_te_wd = y_te[x_te.workingday == 1]\n",
    "y_te_nwd = y_te[x_te.workingday != 1]"
   ]
  },
  {
   "cell_type": "code",
   "execution_count": null,
   "metadata": {
    "collapsed": true
   },
   "outputs": [],
   "source": []
  },
  {
   "cell_type": "code",
   "execution_count": 47,
   "metadata": {},
   "outputs": [
    {
     "name": "stdout",
     "output_type": "stream",
     "text": [
      "MAE two sources: 186.423\n"
     ]
    }
   ],
   "source": [
    "# Fit a linear regression for working days (wd)\n",
    "# and one for non-working days (nwd)\n",
    "lr_wd = LinearRegression()\n",
    "lr_nwd = LinearRegression()\n",
    "\n",
    "lr_wd.fit(x_tr_wd, y_tr_wd)\n",
    "lr_nwd.fit(x_tr_nwd, y_tr_nwd)\n",
    "\n",
    "# Compute overall performance with MAE\n",
    "y_pred_wd = lr_wd.predict(x_te_wd)\n",
    "y_pred_nwd = lr_nwd.predict(x_te_nwd)\n",
    "y_pred_split = np.concatenate([y_pred_wd, y_pred_nwd])\n",
    "y_test_split = np.concatenate([y_te_wd, y_te_nwd])\n",
    "mae_wdnwd = MAE(y_test_split, y_pred_split)\n",
    "print('MAE two sources: {:.3f}'.format(mae_wdnwd))"
   ]
  },
  {
   "cell_type": "code",
   "execution_count": 49,
   "metadata": {},
   "outputs": [
    {
     "data": {
      "image/png": "[encoded data removed]",
      "text/plain": [
       "<matplotlib.figure.Figure at 0x1ee83eebc18>"
      ]
     },
     "metadata": {},
     "output_type": "display_data"
    }
   ],
   "source": [
    "# Plot predictions\n",
    "temp_x_te = np.concatenate([x_te_wd.temp, x_te_nwd.temp])\n",
    "plt.scatter(temp_x_te, y_test_split, s=10, label='test points')\n",
    "plt.scatter(x_te_wd.temp, y_pred_wd, s=10, label='working day model')\n",
    "plt.scatter(x_te_nwd.temp, y_pred_nwd, s=10, label='non-working day model')\n",
    "\n",
    "plt.legend()\n",
    "plt.show()"
   ]
  },
  {
   "cell_type": "code",
   "execution_count": null,
   "metadata": {
    "collapsed": true
   },
   "outputs": [],
   "source": []
  },
  {
   "cell_type": "code",
   "execution_count": null,
   "metadata": {
    "collapsed": true
   },
   "outputs": [],
   "source": []
  },
  {
   "cell_type": "code",
   "execution_count": 50,
   "metadata": {},
   "outputs": [
    {
     "data": {
      "image/png": "[encoded data removed]",
      "text/plain": [
       "<matplotlib.figure.Figure at 0x1ee83f24da0>"
      ]
     },
     "metadata": {},
     "output_type": "display_data"
    }
   ],
   "source": [
    "# Final comparison\n",
    "mae_values = [mae_baseline, mae_lr, mae_lr2, mae_wdnwd]\n",
    "titles = ['median', 'lr', 'lr new features', 'two models']\n",
    "\n",
    "xcor = np.arange(len(mae_values))\n",
    "plt.bar(xcor, mae_values)\n",
    "plt.xticks(xcor, titles)\n",
    "\n",
    "plt.ylabel('MAE')\n",
    "plt.show()"
   ]
  },
  {
   "cell_type": "code",
   "execution_count": null,
   "metadata": {
    "collapsed": true
   },
   "outputs": [],
   "source": []
  }
 ],
 "metadata": {
  "kernelspec": {
   "display_name": "Python 3",
   "language": "python",
   "name": "python3"
  },
  "language_info": {
   "codemirror_mode": {
    "name": "ipython",
    "version": 3
   },
   "file_extension": ".py",
   "mimetype": "text/x-python",
   "name": "python",
   "nbconvert_exporter": "python",
   "pygments_lexer": "ipython3",
   "version": "3.6.2"
  }
 },
 "nbformat": 4,
 "nbformat_minor": 2
}
