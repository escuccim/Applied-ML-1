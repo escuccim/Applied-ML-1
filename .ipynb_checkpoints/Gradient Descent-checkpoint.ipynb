{
 "cells": [
  {
   "cell_type": "code",
   "execution_count": 2,
   "metadata": {},
   "outputs": [
    {
     "ename": "NameError",
     "evalue": "name 'x' is not defined",
     "output_type": "error",
     "traceback": [
      "\u001b[1;31m---------------------------------------------------------------------------\u001b[0m",
      "\u001b[1;31mNameError\u001b[0m                                 Traceback (most recent call last)",
      "\u001b[1;32m<ipython-input-2-e75e67197d63>\u001b[0m in \u001b[0;36m<module>\u001b[1;34m()\u001b[0m\n\u001b[0;32m      9\u001b[0m \u001b[1;32mfor\u001b[0m \u001b[0mstep\u001b[0m \u001b[1;32min\u001b[0m \u001b[0mrange\u001b[0m\u001b[1;33m(\u001b[0m\u001b[0mn_steps\u001b[0m\u001b[1;33m)\u001b[0m\u001b[1;33m:\u001b[0m\u001b[1;33m\u001b[0m\u001b[0m\n\u001b[0;32m     10\u001b[0m     \u001b[1;31m# Predictions with the current a,b values\u001b[0m\u001b[1;33m\u001b[0m\u001b[1;33m\u001b[0m\u001b[0m\n\u001b[1;32m---> 11\u001b[1;33m     \u001b[0my_pred\u001b[0m \u001b[1;33m=\u001b[0m \u001b[0ma\u001b[0m\u001b[1;33m*\u001b[0m\u001b[0mx\u001b[0m \u001b[1;33m+\u001b[0m \u001b[0mb\u001b[0m\u001b[1;33m\u001b[0m\u001b[0m\n\u001b[0m\u001b[0;32m     12\u001b[0m \u001b[1;33m\u001b[0m\u001b[0m\n\u001b[0;32m     13\u001b[0m     \u001b[1;31m# Compute the error vector\u001b[0m\u001b[1;33m\u001b[0m\u001b[1;33m\u001b[0m\u001b[0m\n",
      "\u001b[1;31mNameError\u001b[0m: name 'x' is not defined"
     ]
    }
   ],
   "source": [
    "import numpy as np\n",
    "\n",
    "# Initialization\n",
    "lr = .1 # learning rate\n",
    "a, b = [1,2] # initial a,b values\n",
    "n_steps = 1000 # number of iterations\n",
    "\n",
    "# n_steps iterations\n",
    "for step in range(n_steps):\n",
    "    # Predictions with the current a,b values\n",
    "    y_pred = a*x + b\n",
    "\n",
    "    # Compute the error vector\n",
    "    error = y - y_pred\n",
    "\n",
    "    # Partial derivative with respect to a\n",
    "    a_grad = -2*np.mean(x*error)\n",
    "\n",
    "    # Partial derivative with respect to b\n",
    "    b_grad = -2*np.mean(error)\n",
    "\n",
    "    # Update a and b\n",
    "    a -= lr*a_grad\n",
    "    b -= lr*b_grad"
   ]
  },
  {
   "cell_type": "code",
   "execution_count": 3,
   "metadata": {},
   "outputs": [
    {
     "data": {
      "text/html": [
       "<div>\n",
       "<style>\n",
       "    .dataframe thead tr:only-child th {\n",
       "        text-align: right;\n",
       "    }\n",
       "\n",
       "    .dataframe thead th {\n",
       "        text-align: left;\n",
       "    }\n",
       "\n",
       "    .dataframe tbody tr th {\n",
       "        vertical-align: top;\n",
       "    }\n",
       "</style>\n",
       "<table border=\"1\" class=\"dataframe\">\n",
       "  <thead>\n",
       "    <tr style=\"text-align: right;\">\n",
       "      <th></th>\n",
       "      <th>temp</th>\n",
       "      <th>users</th>\n",
       "    </tr>\n",
       "  </thead>\n",
       "  <tbody>\n",
       "    <tr>\n",
       "      <th>0</th>\n",
       "      <td>0.1964</td>\n",
       "      <td>120</td>\n",
       "    </tr>\n",
       "    <tr>\n",
       "      <th>1</th>\n",
       "      <td>0.2000</td>\n",
       "      <td>108</td>\n",
       "    </tr>\n",
       "    <tr>\n",
       "      <th>2</th>\n",
       "      <td>0.2270</td>\n",
       "      <td>82</td>\n",
       "    </tr>\n",
       "    <tr>\n",
       "      <th>3</th>\n",
       "      <td>0.2043</td>\n",
       "      <td>88</td>\n",
       "    </tr>\n",
       "    <tr>\n",
       "      <th>4</th>\n",
       "      <td>0.1508</td>\n",
       "      <td>41</td>\n",
       "    </tr>\n",
       "  </tbody>\n",
       "</table>\n",
       "</div>"
      ],
      "text/plain": [
       "     temp  users\n",
       "0  0.1964    120\n",
       "1  0.2000    108\n",
       "2  0.2270     82\n",
       "3  0.2043     88\n",
       "4  0.1508     41"
      ]
     },
     "execution_count": 3,
     "metadata": {},
     "output_type": "execute_result"
    }
   ],
   "source": [
    "import pandas as pd\n",
    "\n",
    "# Load the data\n",
    "data_df = pd.read_csv('bike-sharing-simple.csv')\n",
    "data_df.head()"
   ]
  },
  {
   "cell_type": "code",
   "execution_count": 17,
   "metadata": {
    "collapsed": true
   },
   "outputs": [],
   "source": [
    "\n",
    "# Root mean squared error (RMSE)\n",
    "def rmse(y, y_pred):\n",
    "    return np.sqrt(np.mean(np.square(y - y_pred)))\n",
    "\n",
    "# Create x/y arrays\n",
    "x = data_df.temp.values\n",
    "y = data_df.users.values"
   ]
  },
  {
   "cell_type": "code",
   "execution_count": 18,
   "metadata": {
    "collapsed": true
   },
   "outputs": [],
   "source": [
    "lr = 0.8 # learning rate\n",
    "a, b = 0, 0\n",
    "n_steps = 400"
   ]
  },
  {
   "cell_type": "code",
   "execution_count": null,
   "metadata": {
    "collapsed": true
   },
   "outputs": [],
   "source": []
  },
  {
   "cell_type": "code",
   "execution_count": 20,
   "metadata": {},
   "outputs": [],
   "source": [
    "log_rmse = []\n",
    "\n",
    "for step in range(n_steps):\n",
    "    # Predictions with the current a,b values\n",
    "    y_pred = a*x + b\n",
    "\n",
    "    # Compute the error vector\n",
    "    error = y - y_pred\n",
    "\n",
    "    # Partial derivative with respect to a\n",
    "    a_grad = -2*np.mean(x*error)\n",
    "\n",
    "    # Partial derivative with respect to b\n",
    "    b_grad = -2*np.mean(error)\n",
    "\n",
    "    # Update a and b\n",
    "    a -= lr*a_grad\n",
    "    b -= lr*b_grad\n",
    "\n",
    "    # RMSE error\n",
    "    log_rmse.append(rmse(y, y_pred))"
   ]
  },
  {
   "cell_type": "code",
   "execution_count": 21,
   "metadata": {},
   "outputs": [
    {
     "data": {
      "image/png": "[encoded data removed]",
      "text/plain": [
       "<matplotlib.figure.Figure at 0x20691b81358>"
      ]
     },
     "metadata": {},
     "output_type": "display_data"
    }
   ],
   "source": [
    "%matplotlib inline\n",
    "import matplotlib.pyplot as plt\n",
    "\n",
    "# Plot RMSE values\n",
    "plt.plot(log_rmse, label='learning rate: {}'.format(lr))\n",
    "plt.title('RMSE after {} steps is {:.6f}'.format(n_steps, log_rmse[-1]))\n",
    "plt.xlabel(\"time step\")\n",
    "plt.ylabel(\"RMSE\")\n",
    "plt.legend()\n",
    "plt.show()"
   ]
  },
  {
   "cell_type": "code",
   "execution_count": 22,
   "metadata": {},
   "outputs": [
    {
     "name": "stdout",
     "output_type": "stream",
     "text": [
      "Polyfit (a, b)=(1495.60, -94.61)\n",
      "Gradient descent (a, b)=(-31126995872.04, -58042154773.10)\n"
     ]
    }
   ],
   "source": [
    "a_polyfit, b_polyfit = np.polyfit(x, y, 1)\n",
    "\n",
    "# Optimal parameters vs. ones obtained with GD\n",
    "print('Polyfit (a, b)=({:.2f}, {:.2f})'.format(a_polyfit, b_polyfit))\n",
    "# Prints: (a, b)=(1495.60, -94.61)\n",
    "print('Gradient descent (a, b)=({:.2f}, {:.2f})'.format(a, b))\n",
    "# Prints: (a, b)=(1133.56, 98.91)"
   ]
  },
  {
   "cell_type": "code",
   "execution_count": null,
   "metadata": {
    "collapsed": true
   },
   "outputs": [],
   "source": []
  },
  {
   "cell_type": "code",
   "execution_count": 23,
   "metadata": {},
   "outputs": [
    {
     "name": "stdout",
     "output_type": "stream",
     "text": [
      "y_pred: (302,)\n",
      "error: (302,)\n",
      "a_grad: ()\n",
      "b grad: ()\n"
     ]
    }
   ],
   "source": [
    "y_pred = a*x + b\n",
    "\n",
    "# Compute the error vector\n",
    "error = y - y_pred\n",
    "\n",
    "# Partial derivative with respect to a\n",
    "a_grad = -2*np.mean(x*error)\n",
    "\n",
    "# Partial derivative with respect to b\n",
    "b_grad = -2*np.mean(error)\n",
    "\n",
    "# Print shape\n",
    "print('y_pred:', y_pred.shape) # (302,)\n",
    "print('error:', error.shape) # (302,)\n",
    "print('a_grad:', a_grad.shape) # ()\n",
    "print('b grad:', b_grad.shape) # ()"
   ]
  },
  {
   "cell_type": "markdown",
   "metadata": {},
   "source": [
    "## Scaling Data"
   ]
  },
  {
   "cell_type": "code",
   "execution_count": 37,
   "metadata": {},
   "outputs": [
    {
     "data": {
      "text/html": [
       "<div>\n",
       "<style>\n",
       "    .dataframe thead tr:only-child th {\n",
       "        text-align: right;\n",
       "    }\n",
       "\n",
       "    .dataframe thead th {\n",
       "        text-align: left;\n",
       "    }\n",
       "\n",
       "    .dataframe tbody tr th {\n",
       "        vertical-align: top;\n",
       "    }\n",
       "</style>\n",
       "<table border=\"1\" class=\"dataframe\">\n",
       "  <thead>\n",
       "    <tr style=\"text-align: right;\">\n",
       "      <th></th>\n",
       "      <th>temp</th>\n",
       "      <th>users</th>\n",
       "    </tr>\n",
       "  </thead>\n",
       "  <tbody>\n",
       "    <tr>\n",
       "      <th>0</th>\n",
       "      <td>0.1964</td>\n",
       "      <td>120</td>\n",
       "    </tr>\n",
       "    <tr>\n",
       "      <th>1</th>\n",
       "      <td>0.2000</td>\n",
       "      <td>108</td>\n",
       "    </tr>\n",
       "    <tr>\n",
       "      <th>2</th>\n",
       "      <td>0.2270</td>\n",
       "      <td>82</td>\n",
       "    </tr>\n",
       "    <tr>\n",
       "      <th>3</th>\n",
       "      <td>0.2043</td>\n",
       "      <td>88</td>\n",
       "    </tr>\n",
       "    <tr>\n",
       "      <th>4</th>\n",
       "      <td>0.1508</td>\n",
       "      <td>41</td>\n",
       "    </tr>\n",
       "  </tbody>\n",
       "</table>\n",
       "</div>"
      ],
      "text/plain": [
       "     temp  users\n",
       "0  0.1964    120\n",
       "1  0.2000    108\n",
       "2  0.2270     82\n",
       "3  0.2043     88\n",
       "4  0.1508     41"
      ]
     },
     "execution_count": 37,
     "metadata": {},
     "output_type": "execute_result"
    }
   ],
   "source": [
    "import pandas as pd\n",
    "\n",
    "# Load the data\n",
    "data_df = pd.read_csv('bike-sharing-simple.csv')\n",
    "data_df.head()"
   ]
  },
  {
   "cell_type": "code",
   "execution_count": 38,
   "metadata": {
    "collapsed": true
   },
   "outputs": [],
   "source": [
    "x = 47*data_df.temp.values - 8 # Degrees Celsius\n",
    "y = data_df.users.values"
   ]
  },
  {
   "cell_type": "code",
   "execution_count": 39,
   "metadata": {},
   "outputs": [],
   "source": [
    "# Initialization\n",
    "lr = 0.7\n",
    "a, b = 0, 0\n",
    "n_steps = 400"
   ]
  },
  {
   "cell_type": "code",
   "execution_count": 40,
   "metadata": {},
   "outputs": [
    {
     "name": "stderr",
     "output_type": "stream",
     "text": [
      "C:\\Users\\eric\\Anaconda2\\envs\\exts-ada\\lib\\site-packages\\ipykernel_launcher.py:8: RuntimeWarning: overflow encountered in square\n",
      "  \n",
      "C:\\Users\\eric\\Anaconda2\\envs\\exts-ada\\lib\\site-packages\\ipykernel_launcher.py:7: RuntimeWarning: overflow encountered in multiply\n",
      "  import sys\n",
      "C:\\Users\\eric\\Anaconda2\\envs\\exts-ada\\lib\\site-packages\\ipykernel_launcher.py:5: RuntimeWarning: invalid value encountered in add\n",
      "  \"\"\"\n"
     ]
    }
   ],
   "source": [
    "# Gradient descent\n",
    "log_rmse = []\n",
    "for step in range(n_steps):\n",
    "    # Compute partial derivatives\n",
    "    y_pred = a*x + b\n",
    "    error = y - y_pred\n",
    "    a_grad = -2*np.mean(x*error)\n",
    "    b_grad = -2*np.mean(error)\n",
    "\n",
    "    # Update parameters\n",
    "    a -= lr*a_grad\n",
    "    b -= lr*b_grad\n",
    "\n",
    "    # Log RMSE score\n",
    "    log_rmse.append(rmse(y, y_pred))"
   ]
  },
  {
   "cell_type": "code",
   "execution_count": 41,
   "metadata": {},
   "outputs": [
    {
     "data": {
      "image/png": "[encoded data removed]",
      "text/plain": [
       "<matplotlib.figure.Figure at 0x20692a629e8>"
      ]
     },
     "metadata": {},
     "output_type": "display_data"
    }
   ],
   "source": [
    "%matplotlib inline\n",
    "import matplotlib.pyplot as plt\n",
    "\n",
    "plt.plot(log_rmse, label='learning rate: {}'.format(lr))\n",
    "plt.title('RMSE after {} steps is {}'.format(n_steps, log_rmse[-1]))\n",
    "plt.xlabel(\"time step\")\n",
    "plt.ylabel(\"RMSE\")\n",
    "plt.legend()\n",
    "plt.show()"
   ]
  },
  {
   "cell_type": "code",
   "execution_count": 42,
   "metadata": {},
   "outputs": [
    {
     "data": {
      "text/plain": [
       "nan"
      ]
     },
     "execution_count": 42,
     "metadata": {},
     "output_type": "execute_result"
    }
   ],
   "source": [
    "log_rmse[-1]"
   ]
  },
  {
   "cell_type": "markdown",
   "metadata": {},
   "source": [
    "# Scaled Temperatures"
   ]
  },
  {
   "cell_type": "code",
   "execution_count": 43,
   "metadata": {
    "collapsed": true
   },
   "outputs": [],
   "source": [
    "x = data_df.temp.values\n",
    "y = data_df.users.values"
   ]
  },
  {
   "cell_type": "code",
   "execution_count": 44,
   "metadata": {
    "collapsed": true
   },
   "outputs": [],
   "source": [
    "lr = 0.7\n",
    "a, b = 0, 0\n",
    "n_steps = 400\n",
    "\n",
    "# Gradient descent\n",
    "log_a = [a]\n",
    "log_b = [b]\n",
    "\n",
    "for step in range(n_steps):\n",
    "    # Compute partial derivatives\n",
    "    y_pred = a*x + b\n",
    "    error = y - y_pred\n",
    "    a_grad = -2*np.mean(x*error)\n",
    "    b_grad = -2*np.mean(error)\n",
    "\n",
    "    # Update parameters\n",
    "    a -= lr*a_grad\n",
    "    b -= lr*b_grad\n",
    "\n",
    "    # Log a, b values\n",
    "    log_a.append(a)\n",
    "    log_b.append(b)"
   ]
  },
  {
   "cell_type": "code",
   "execution_count": 45,
   "metadata": {},
   "outputs": [
    {
     "data": {
      "image/png": "[encoded data removed]",
      "text/plain": [
       "<matplotlib.figure.Figure at 0x20692aad9b0>"
      ]
     },
     "metadata": {},
     "output_type": "display_data"
    }
   ],
   "source": [
    "plt.plot(log_a, log_b)\n",
    "plt.xlabel('parameter a')\n",
    "plt.ylabel('parameter b')\n",
    "plt.show()"
   ]
  },
  {
   "cell_type": "code",
   "execution_count": 47,
   "metadata": {},
   "outputs": [
    {
     "data": {
      "image/png": "[encoded data removed]",
      "text/plain": [
       "<matplotlib.figure.Figure at 0x206929ba828>"
      ]
     },
     "metadata": {},
     "output_type": "display_data"
    }
   ],
   "source": [
    "visualize_steps(log_a, log_b, x, y)"
   ]
  },
  {
   "cell_type": "code",
   "execution_count": null,
   "metadata": {
    "collapsed": true
   },
   "outputs": [],
   "source": []
  },
  {
   "cell_type": "markdown",
   "metadata": {},
   "source": [
    "## Standardization"
   ]
  },
  {
   "cell_type": "code",
   "execution_count": 48,
   "metadata": {},
   "outputs": [
    {
     "name": "stdout",
     "output_type": "stream",
     "text": [
      "Mean: -7.05837154729e-17\n",
      "Standard deviation: 1.0\n"
     ]
    }
   ],
   "source": [
    "from sklearn.preprocessing import scale\n",
    "\n",
    "# Standardize x\n",
    "x_standardized = scale(x)\n",
    "\n",
    "print('Mean:', x_standardized.mean())\n",
    "# Prints: -7.05837154729e-17\n",
    "\n",
    "print('Standard deviation:', x_standardized.std())"
   ]
  },
  {
   "cell_type": "code",
   "execution_count": 49,
   "metadata": {
    "collapsed": true
   },
   "outputs": [],
   "source": [
    "lr = 0.7\n",
    "a, b = 0, 0\n",
    "n_steps = 400\n",
    "\n",
    "# Gradient descent\n",
    "log_a = [a]\n",
    "log_b = [b]\n",
    "\n",
    "for step in range(n_steps):\n",
    "    # Compute partial derivatives\n",
    "    y_pred = a*x_standardized + b\n",
    "    error = y - y_pred\n",
    "    a_grad = -2*np.mean(x_standardized*error)\n",
    "    b_grad = -2*np.mean(error)\n",
    "\n",
    "    # Update parameters\n",
    "    a -= lr*a_grad\n",
    "    b -= lr*b_grad\n",
    "\n",
    "    # Log a, b values\n",
    "    log_a.append(a)\n",
    "    log_b.append(b)"
   ]
  },
  {
   "cell_type": "code",
   "execution_count": 50,
   "metadata": {},
   "outputs": [
    {
     "data": {
      "image/png": "[encoded data removed]",
      "text/plain": [
       "<matplotlib.figure.Figure at 0x20692ccbbe0>"
      ]
     },
     "metadata": {},
     "output_type": "display_data"
    }
   ],
   "source": [
    "visualize_steps(log_a, log_b, x_standardized, y)"
   ]
  },
  {
   "cell_type": "code",
   "execution_count": 51,
   "metadata": {
    "collapsed": true
   },
   "outputs": [],
   "source": [
    "lr = 0.1\n",
    "a, b = 0, 0\n",
    "n_steps = 400"
   ]
  },
  {
   "cell_type": "code",
   "execution_count": 52,
   "metadata": {
    "collapsed": true
   },
   "outputs": [],
   "source": [
    "log_a = [a]\n",
    "log_b = [b]\n",
    "\n",
    "for step in range(n_steps):\n",
    "    # Compute partial derivatives\n",
    "    y_pred = a*x_standardized + b\n",
    "    error = y - y_pred\n",
    "    a_grad = -2*np.mean(x_standardized*error)\n",
    "    b_grad = -2*np.mean(error)\n",
    "\n",
    "    # Update parameters\n",
    "    a -= lr*a_grad\n",
    "    b -= lr*b_grad\n",
    "\n",
    "    # Log a, b values\n",
    "    log_a.append(a)\n",
    "    log_b.append(b)"
   ]
  },
  {
   "cell_type": "code",
   "execution_count": 53,
   "metadata": {},
   "outputs": [
    {
     "data": {
      "image/png": "[encoded data removed]",
      "text/plain": [
       "<matplotlib.figure.Figure at 0x206926904e0>"
      ]
     },
     "metadata": {},
     "output_type": "display_data"
    }
   ],
   "source": [
    "visualize_steps(log_a, log_b, x_standardized, y)"
   ]
  },
  {
   "cell_type": "code",
   "execution_count": null,
   "metadata": {
    "collapsed": true
   },
   "outputs": [],
   "source": []
  },
  {
   "cell_type": "code",
   "execution_count": null,
   "metadata": {
    "collapsed": true
   },
   "outputs": [],
   "source": []
  },
  {
   "cell_type": "code",
   "execution_count": null,
   "metadata": {
    "collapsed": true
   },
   "outputs": [],
   "source": []
  },
  {
   "cell_type": "code",
   "execution_count": null,
   "metadata": {
    "collapsed": true
   },
   "outputs": [],
   "source": []
  },
  {
   "cell_type": "code",
   "execution_count": 46,
   "metadata": {
    "collapsed": true
   },
   "outputs": [],
   "source": [
    "def visualize_steps(log_a, log_b, x, y):\n",
    "    # Define a grid of a,b parameters\n",
    "    min_ab = min(min(log_a), min(log_b))\n",
    "    max_ab = max(max(log_a), max(log_b))\n",
    "\n",
    "    d = max_ab - min_ab\n",
    "    min_ab -= d * 0.1\n",
    "    max_ab += d * 0.1\n",
    "\n",
    "    a = np.linspace(min_ab, max_ab, num=40)\n",
    "    b = np.linspace(min_ab, max_ab, num=40)\n",
    "    a_grid, b_grid = np.meshgrid(a, b)\n",
    "\n",
    "    # Compute the RMSE score for each a,b pair on that grid\n",
    "    rmse_grid = np.zeros_like(a_grid)\n",
    "\n",
    "    for i in range(40):\n",
    "        for j in range(40):\n",
    "            a, b = a_grid[i, j], b_grid[i, j]\n",
    "            rmse_grid[i, j] = rmse(a*x+b, y)\n",
    "\n",
    "    # RMSE surface\n",
    "    plt.gca().set_aspect('equal', adjustable='box')\n",
    "    plt.contourf(a_grid, b_grid, rmse_grid, 20, cmap=plt.cm.coolwarm)\n",
    "    plt.colorbar(label='RMSE')\n",
    "\n",
    "    # Plot the GD steps\n",
    "    plt.plot(log_a, log_b, c='#00abe9')\n",
    "    plt.scatter(log_a, log_b, c='#00abe9')\n",
    "\n",
    "    # Set titles and labels\n",
    "    plt.xlabel('parameter a')\n",
    "    plt.ylabel('parameter b')\n",
    "\n",
    "    plt.xlim(min_ab, max_ab)\n",
    "    plt.ylim(min_ab, max_ab)\n",
    "    plt.show()"
   ]
  },
  {
   "cell_type": "code",
   "execution_count": null,
   "metadata": {
    "collapsed": true
   },
   "outputs": [],
   "source": []
  }
 ],
 "metadata": {
  "kernelspec": {
   "display_name": "Python 3",
   "language": "python",
   "name": "python3"
  },
  "language_info": {
   "codemirror_mode": {
    "name": "ipython",
    "version": 3
   },
   "file_extension": ".py",
   "mimetype": "text/x-python",
   "name": "python",
   "nbconvert_exporter": "python",
   "pygments_lexer": "ipython3",
   "version": "3.6.2"
  }
 },
 "nbformat": 4,
 "nbformat_minor": 2
}
