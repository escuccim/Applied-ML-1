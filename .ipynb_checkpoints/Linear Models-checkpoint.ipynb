{
 "cells": [
  {
   "cell_type": "code",
   "execution_count": 1,
   "metadata": {},
   "outputs": [
    {
     "name": "stdout",
     "output_type": "stream",
     "text": [
      "data_df shape: (50, 4)\n"
     ]
    },
    {
     "data": {
      "text/html": [
       "<div>\n",
       "<style>\n",
       "    .dataframe thead tr:only-child th {\n",
       "        text-align: right;\n",
       "    }\n",
       "\n",
       "    .dataframe thead th {\n",
       "        text-align: left;\n",
       "    }\n",
       "\n",
       "    .dataframe tbody tr th {\n",
       "        vertical-align: top;\n",
       "    }\n",
       "</style>\n",
       "<table border=\"1\" class=\"dataframe\">\n",
       "  <thead>\n",
       "    <tr style=\"text-align: right;\">\n",
       "      <th></th>\n",
       "      <th>tv</th>\n",
       "      <th>web</th>\n",
       "      <th>radio</th>\n",
       "      <th>sales</th>\n",
       "    </tr>\n",
       "  </thead>\n",
       "  <tbody>\n",
       "    <tr>\n",
       "      <th>0</th>\n",
       "      <td>0.916</td>\n",
       "      <td>1.689</td>\n",
       "      <td>0.208</td>\n",
       "      <td>1.204</td>\n",
       "    </tr>\n",
       "    <tr>\n",
       "      <th>1</th>\n",
       "      <td>9.359</td>\n",
       "      <td>1.706</td>\n",
       "      <td>1.071</td>\n",
       "      <td>4.800</td>\n",
       "    </tr>\n",
       "    <tr>\n",
       "      <th>2</th>\n",
       "      <td>5.261</td>\n",
       "      <td>2.538</td>\n",
       "      <td>2.438</td>\n",
       "      <td>3.970</td>\n",
       "    </tr>\n",
       "    <tr>\n",
       "      <th>3</th>\n",
       "      <td>8.682</td>\n",
       "      <td>2.092</td>\n",
       "      <td>1.283</td>\n",
       "      <td>5.212</td>\n",
       "    </tr>\n",
       "    <tr>\n",
       "      <th>4</th>\n",
       "      <td>11.736</td>\n",
       "      <td>1.660</td>\n",
       "      <td>1.800</td>\n",
       "      <td>5.993</td>\n",
       "    </tr>\n",
       "  </tbody>\n",
       "</table>\n",
       "</div>"
      ],
      "text/plain": [
       "       tv    web  radio  sales\n",
       "0   0.916  1.689  0.208  1.204\n",
       "1   9.359  1.706  1.071  4.800\n",
       "2   5.261  2.538  2.438  3.970\n",
       "3   8.682  2.092  1.283  5.212\n",
       "4  11.736  1.660  1.800  5.993"
      ]
     },
     "execution_count": 1,
     "metadata": {},
     "output_type": "execute_result"
    }
   ],
   "source": [
    "import pandas as pd\n",
    "\n",
    "# Load data\n",
    "data_df = pd.read_csv('marketing-campaign.csv')\n",
    "print('data_df shape:', data_df.shape) # (50, 4)\n",
    "data_df.head()"
   ]
  },
  {
   "cell_type": "code",
   "execution_count": 2,
   "metadata": {},
   "outputs": [
    {
     "name": "stdout",
     "output_type": "stream",
     "text": [
      "X: (50, 3)\n",
      "y: (50,)\n"
     ]
    }
   ],
   "source": [
    "X = data_df.drop('sales', axis=1).values\n",
    "print('X:', X.shape) # Prints: (50, 3)\n",
    "\n",
    "# Extract target vector y\n",
    "y = data_df.sales.values\n",
    "print('y:', y.shape) # Prints: (50,)"
   ]
  },
  {
   "cell_type": "code",
   "execution_count": 3,
   "metadata": {},
   "outputs": [
    {
     "name": "stdout",
     "output_type": "stream",
     "text": [
      "w: [ 0.3958359   0.47521518  0.31040001]\n",
      "RSS: 1.6884039033\n"
     ]
    }
   ],
   "source": [
    "from scipy.linalg import lstsq\n",
    "\n",
    "# Fit a multiple linear regression\n",
    "w, rss, _, _ = lstsq(X, y)\n",
    "print('w:', w) # Prints: [ 0.3958359   0.47521518  0.31040001]\n",
    "print('RSS:', rss) # Prints: 1.6884039033"
   ]
  },
  {
   "cell_type": "code",
   "execution_count": 4,
   "metadata": {},
   "outputs": [
    {
     "data": {
      "text/plain": [
       "array([[  1.   ,   0.916,   1.689,   0.208],\n",
       "       [  1.   ,   9.359,   1.706,   1.071],\n",
       "       [  1.   ,   5.261,   2.538,   2.438],\n",
       "       [  1.   ,   8.682,   2.092,   1.283],\n",
       "       [  1.   ,  11.736,   1.66 ,   1.8  ]])"
      ]
     },
     "execution_count": 4,
     "metadata": {},
     "output_type": "execute_result"
    }
   ],
   "source": [
    "import numpy as np\n",
    "\n",
    "# Add a column of ones\n",
    "X1 = np.c_[\n",
    "    np.ones(X.shape[0]), # Vector of ones of shape (n,)\n",
    "    X # X matrix of shape (n,p)\n",
    "]\n",
    "\n",
    "X1[:5, :]"
   ]
  },
  {
   "cell_type": "code",
   "execution_count": 5,
   "metadata": {},
   "outputs": [
    {
     "name": "stdout",
     "output_type": "stream",
     "text": [
      "w: [ 0.02487092  0.39465146  0.47037002  0.30669954]\n",
      "RSS: 1.68545086808\n"
     ]
    }
   ],
   "source": [
    "w, rss, _, _ = lstsq(X1, y)\n",
    "\n",
    "print('w:', w) # Prints: [ 0.02487092  0.39465146  0.47037002  0.30669954]\n",
    "print('RSS:', rss) # 1.68545086808"
   ]
  },
  {
   "cell_type": "code",
   "execution_count": 6,
   "metadata": {},
   "outputs": [
    {
     "name": "stdout",
     "output_type": "stream",
     "text": [
      "y_pred: (50,)\n"
     ]
    }
   ],
   "source": [
    "y_pred = np.matmul(X1, w)\n",
    "print('y_pred:', y_pred.shape) # Prints: (50,)"
   ]
  },
  {
   "cell_type": "code",
   "execution_count": 7,
   "metadata": {},
   "outputs": [
    {
     "name": "stdout",
     "output_type": "stream",
     "text": [
      "RSS: 1.68545086808\n"
     ]
    }
   ],
   "source": [
    "def RSS(y, y_pred):\n",
    "    return np.sum(np.square(np.subtract(y, y_pred)))\n",
    "\n",
    "rss = RSS(y, y_pred)\n",
    "print('RSS:', rss)"
   ]
  },
  {
   "cell_type": "markdown",
   "metadata": {},
   "source": [
    "## R Squared"
   ]
  },
  {
   "cell_type": "code",
   "execution_count": 8,
   "metadata": {
    "collapsed": true
   },
   "outputs": [],
   "source": [
    "import pandas as pd\n",
    "\n",
    "# Load data\n",
    "data_df = pd.read_csv('marketing-campaign.csv')\n",
    "X = data_df.drop('sales', axis=1).values\n",
    "y = data_df.sales.values"
   ]
  },
  {
   "cell_type": "code",
   "execution_count": 9,
   "metadata": {},
   "outputs": [
    {
     "name": "stdout",
     "output_type": "stream",
     "text": [
      "RSS baseline: 100.86060792\n"
     ]
    }
   ],
   "source": [
    "import numpy as np\n",
    "\n",
    "# Define RSS measure\n",
    "def RSS(y, y_pred):\n",
    "    return np.sum(np.square(np.subtract(y, y_pred)))\n",
    "\n",
    "# RSS of the baseline\n",
    "rss_baseline = RSS(y, y.mean())\n",
    "print('RSS baseline:', rss_baseline)"
   ]
  },
  {
   "cell_type": "code",
   "execution_count": 10,
   "metadata": {},
   "outputs": [
    {
     "name": "stdout",
     "output_type": "stream",
     "text": [
      "RSS: 1.68545086808\n"
     ]
    }
   ],
   "source": [
    "from scipy.linalg import lstsq\n",
    "\n",
    "# Fit a multiple linear regression\n",
    "X1 = np.c_[np.ones(X.shape[0]), X]\n",
    "w, model_rss, _, _ = lstsq(X1, y)\n",
    "print('RSS:', model_rss)"
   ]
  },
  {
   "cell_type": "code",
   "execution_count": 11,
   "metadata": {},
   "outputs": [
    {
     "name": "stdout",
     "output_type": "stream",
     "text": [
      "R^2 coefficient: 0.983289304885\n"
     ]
    }
   ],
   "source": [
    "R2 = 1 - (model_rss / rss_baseline)\n",
    "print('R^2 coefficient:', R2)"
   ]
  },
  {
   "cell_type": "code",
   "execution_count": 12,
   "metadata": {},
   "outputs": [
    {
     "name": "stdout",
     "output_type": "stream",
     "text": [
      "R^2 coefficient: 0.84394303857\n"
     ]
    }
   ],
   "source": [
    "R2 = 1 - (15.74 / rss_baseline)\n",
    "print('R^2 coefficient:', R2)"
   ]
  },
  {
   "cell_type": "markdown",
   "metadata": {},
   "source": [
    "## Linear Regression"
   ]
  },
  {
   "cell_type": "code",
   "execution_count": 13,
   "metadata": {
    "collapsed": true
   },
   "outputs": [],
   "source": [
    "import pandas as pd\n",
    "\n",
    "# Load data\n",
    "data_df = pd.read_csv('marketing-campaign.csv')\n",
    "X = data_df.drop('sales', axis=1).values\n",
    "y = data_df.sales.values"
   ]
  },
  {
   "cell_type": "code",
   "execution_count": 14,
   "metadata": {
    "collapsed": true
   },
   "outputs": [],
   "source": [
    "import numpy as np\n",
    "\n",
    "# Create X1 matrix\n",
    "X1 = np.c_[\n",
    "    np.ones(X.shape[0]), # Column of ones, shape: (n,)\n",
    "    X # Input matrix, shape: (n,p)\n",
    "]"
   ]
  },
  {
   "cell_type": "code",
   "execution_count": 15,
   "metadata": {},
   "outputs": [
    {
     "data": {
      "text/plain": [
       "array([ 0.02487092,  0.39465146,  0.47037002,  0.30669954])"
      ]
     },
     "execution_count": 15,
     "metadata": {},
     "output_type": "execute_result"
    }
   ],
   "source": [
    "XX = np.matmul(X1.T, X1)\n",
    "Xy = np.matmul(X1.T, y)\n",
    "w = np.matmul(np.linalg.inv(XX), Xy)\n",
    "w"
   ]
  },
  {
   "cell_type": "code",
   "execution_count": 17,
   "metadata": {},
   "outputs": [
    {
     "data": {
      "text/plain": [
       "array([ 0.02487092,  0.39465146,  0.47037002,  0.30669954])"
      ]
     },
     "execution_count": 17,
     "metadata": {},
     "output_type": "execute_result"
    }
   ],
   "source": [
    "\n",
    "# Verify with Scipy lstsq\n",
    "w, _, _, _ = lstsq(X1, y)\n",
    "w"
   ]
  },
  {
   "cell_type": "markdown",
   "metadata": {},
   "source": [
    "## SkLearn"
   ]
  },
  {
   "cell_type": "code",
   "execution_count": 18,
   "metadata": {
    "collapsed": true
   },
   "outputs": [],
   "source": [
    "import pandas as pd\n",
    "\n",
    "# Load data\n",
    "data_df = pd.read_csv('marketing-campaign.csv')\n",
    "X = data_df.drop('sales', axis=1).values\n",
    "y = data_df.sales.values"
   ]
  },
  {
   "cell_type": "code",
   "execution_count": 19,
   "metadata": {},
   "outputs": [
    {
     "name": "stdout",
     "output_type": "stream",
     "text": [
      "Coefficients: [ 0.39465146  0.47037002  0.30669954]\n",
      "Intercept: 0.0248709178882\n"
     ]
    }
   ],
   "source": [
    "from sklearn.linear_model import LinearRegression\n",
    "\n",
    "# Create a linear regression object\n",
    "lr = LinearRegression()\n",
    "\n",
    "# Fit the model\n",
    "lr.fit(X, y)\n",
    "\n",
    "# Print coefficients\n",
    "print('Coefficients:', lr.coef_)\n",
    "# Prints: [ 0.39465146  0.47037002  0.30669954]\n",
    "\n",
    "print('Intercept:', lr.intercept_)\n",
    "# Prints: 0.0248709178882"
   ]
  },
  {
   "cell_type": "code",
   "execution_count": 20,
   "metadata": {},
   "outputs": [
    {
     "data": {
      "text/plain": [
       "array([ 1.24462012,  4.84934038,  4.04266482])"
      ]
     },
     "execution_count": 20,
     "metadata": {},
     "output_type": "execute_result"
    }
   ],
   "source": [
    "y_pred = lr.predict(X)\n",
    "y_pred[:3]"
   ]
  },
  {
   "cell_type": "code",
   "execution_count": 21,
   "metadata": {},
   "outputs": [
    {
     "data": {
      "text/plain": [
       "array([ 1.24462012,  4.84934038,  4.04266482])"
      ]
     },
     "execution_count": 21,
     "metadata": {},
     "output_type": "execute_result"
    }
   ],
   "source": [
    "y_pred = np.matmul(X, lr.coef_) + lr.intercept_\n",
    "y_pred[:3]"
   ]
  },
  {
   "cell_type": "code",
   "execution_count": 22,
   "metadata": {},
   "outputs": [
    {
     "data": {
      "text/plain": [
       "0.98328930488482358"
      ]
     },
     "execution_count": 22,
     "metadata": {},
     "output_type": "execute_result"
    }
   ],
   "source": [
    "R2 = lr.score(X, y)\n",
    "R2"
   ]
  },
  {
   "cell_type": "code",
   "execution_count": 23,
   "metadata": {},
   "outputs": [
    {
     "name": "stdout",
     "output_type": "stream",
     "text": [
      "Coefficients: [ 0.3938607   0.46968115  0.30563938]\n",
      "Intercept: [ 0.02885412]\n"
     ]
    }
   ],
   "source": [
    "from sklearn.linear_model import SGDRegressor\n",
    "\n",
    "# Create the SGDRegressor object\n",
    "lr_sgd = SGDRegressor(\n",
    "    loss='squared_loss', # Cost function\n",
    "    penalty='none', # Add a penalty term?\n",
    "    max_iter=1000, # Number of iterations\n",
    "    random_state=0 # The implementation shuffles the data\n",
    ")\n",
    "\n",
    "# Fit the linear regression model\n",
    "lr_sgd.fit(X, y)\n",
    "\n",
    "# Print coefficients\n",
    "print('Coefficients:', lr_sgd.coef_)\n",
    "# Prints: [ 0.3938607   0.46968115  0.30563938]\n",
    "\n",
    "print('Intercept:', lr_sgd.intercept_)"
   ]
  },
  {
   "cell_type": "code",
   "execution_count": 24,
   "metadata": {},
   "outputs": [
    {
     "data": {
      "text/plain": [
       "0.98327806598352852"
      ]
     },
     "execution_count": 24,
     "metadata": {},
     "output_type": "execute_result"
    }
   ],
   "source": [
    "R2_sgd = lr_sgd.score(X, y)\n",
    "R2_sgd"
   ]
  },
  {
   "cell_type": "code",
   "execution_count": 25,
   "metadata": {},
   "outputs": [
    {
     "name": "stdout",
     "output_type": "stream",
     "text": [
      "Coefficients: [ 0.39172544  0.4788203   0.29315421]\n",
      "Intercept: 0.0458629881919\n",
      "R^2 coefficient: 0.983070157114\n"
     ]
    }
   ],
   "source": [
    "from sklearn.linear_model import HuberRegressor\n",
    "\n",
    "# Create the estimator\n",
    "huber = HuberRegressor(epsilon=1.35)\n",
    "\n",
    "# Fit it to X,y\n",
    "huber.fit(X, y)\n",
    "\n",
    "print('Coefficients:', huber.coef_)\n",
    "# Prints: [ 0.39172544  0.4788203   0.29315421]\n",
    "\n",
    "print('Intercept:', huber.intercept_)\n",
    "# Prints: 0.0458629881919\n",
    "\n",
    "print('R^2 coefficient:', huber.score(X, y))"
   ]
  },
  {
   "cell_type": "markdown",
   "metadata": {},
   "source": [
    "## Colinearity"
   ]
  },
  {
   "cell_type": "code",
   "execution_count": 27,
   "metadata": {},
   "outputs": [
    {
     "data": {
      "text/html": [
       "<div>\n",
       "<style>\n",
       "    .dataframe thead tr:only-child th {\n",
       "        text-align: right;\n",
       "    }\n",
       "\n",
       "    .dataframe thead th {\n",
       "        text-align: left;\n",
       "    }\n",
       "\n",
       "    .dataframe tbody tr th {\n",
       "        vertical-align: top;\n",
       "    }\n",
       "</style>\n",
       "<table border=\"1\" class=\"dataframe\">\n",
       "  <thead>\n",
       "    <tr style=\"text-align: right;\">\n",
       "      <th></th>\n",
       "      <th>temp</th>\n",
       "      <th>users</th>\n",
       "    </tr>\n",
       "  </thead>\n",
       "  <tbody>\n",
       "    <tr>\n",
       "      <th>0</th>\n",
       "      <td>0.1964</td>\n",
       "      <td>120</td>\n",
       "    </tr>\n",
       "    <tr>\n",
       "      <th>1</th>\n",
       "      <td>0.2000</td>\n",
       "      <td>108</td>\n",
       "    </tr>\n",
       "    <tr>\n",
       "      <th>2</th>\n",
       "      <td>0.2270</td>\n",
       "      <td>82</td>\n",
       "    </tr>\n",
       "    <tr>\n",
       "      <th>3</th>\n",
       "      <td>0.2043</td>\n",
       "      <td>88</td>\n",
       "    </tr>\n",
       "    <tr>\n",
       "      <th>4</th>\n",
       "      <td>0.1508</td>\n",
       "      <td>41</td>\n",
       "    </tr>\n",
       "  </tbody>\n",
       "</table>\n",
       "</div>"
      ],
      "text/plain": [
       "     temp  users\n",
       "0  0.1964    120\n",
       "1  0.2000    108\n",
       "2  0.2270     82\n",
       "3  0.2043     88\n",
       "4  0.1508     41"
      ]
     },
     "execution_count": 27,
     "metadata": {},
     "output_type": "execute_result"
    }
   ],
   "source": [
    "import pandas as pd\n",
    "\n",
    "# Load data\n",
    "data_df = pd.read_csv('bike-sharing-simple.csv')\n",
    "\n",
    "# Create Numpy arrays\n",
    "temp = data_df.temp.values\n",
    "users = data_df.users.values\n",
    "\n",
    "# First five rows\n",
    "data_df.head()"
   ]
  },
  {
   "cell_type": "code",
   "execution_count": 28,
   "metadata": {
    "collapsed": true
   },
   "outputs": [],
   "source": [
    "temp_C = 47*temp - 8"
   ]
  },
  {
   "cell_type": "code",
   "execution_count": 29,
   "metadata": {},
   "outputs": [
    {
     "name": "stdout",
     "output_type": "stream",
     "text": [
      "Rank 2\n"
     ]
    }
   ],
   "source": [
    "import numpy as np\n",
    "\n",
    "# Create input matrix X\n",
    "X = np.c_[temp, temp_C]\n",
    "\n",
    "# Add a column of ones\n",
    "X1 = np.c_[np.ones(X.shape[0]), X]\n",
    "\n",
    "# Compute rank\n",
    "rank = np.linalg.matrix_rank(X1)\n",
    "print('Rank', rank) "
   ]
  },
  {
   "cell_type": "code",
   "execution_count": 30,
   "metadata": {},
   "outputs": [
    {
     "data": {
      "text/plain": [
       "array([[  1.    ,   0.1964,   1.2308],\n",
       "       [  1.    ,   0.2   ,   1.4   ],\n",
       "       [  1.    ,   0.227 ,   2.669 ],\n",
       "       [  1.    ,   0.2043,   1.6021],\n",
       "       [  1.    ,   0.1508,  -0.9124],\n",
       "       [  1.    ,   0.1727,   0.1169],\n",
       "       [  1.    ,   0.165 ,  -0.245 ],\n",
       "       [  1.    ,   0.1609,  -0.4377],\n",
       "       [  1.    ,   0.1775,   0.3425],\n",
       "       [  1.    ,   0.0974,  -3.4222],\n",
       "       [  1.    ,   0.195 ,   1.165 ],\n",
       "       [  1.    ,   0.187 ,   0.789 ],\n",
       "       [  1.    ,   0.2717,   4.7699],\n",
       "       [  1.    ,   0.2208,   2.3776],\n",
       "       [  1.    ,   0.1443,  -1.2179],\n",
       "       [  1.    ,   0.1891,   0.8877],\n",
       "       [  1.    ,   0.415 ,  11.505 ],\n",
       "       [  1.    ,   0.2661,   4.5067],\n",
       "       [  1.    ,   0.3183,   6.9601],\n",
       "       [  1.    ,   0.4358,  12.4826],\n",
       "       [  1.    ,   0.5217,  16.5199],\n",
       "       [  1.    ,   0.1822,   0.5634],\n",
       "       [  1.    ,   0.2217,   2.4199],\n",
       "       [  1.    ,   0.2667,   4.5349],\n",
       "       [  1.    ,   0.335 ,   7.745 ],\n",
       "       [  1.    ,   0.1983,   1.3201],\n",
       "       [  1.    ,   0.2617,   4.2999],\n",
       "       [  1.    ,   0.2925,   5.7475],\n",
       "       [  1.    ,   0.3252,   7.2844],\n",
       "       [  1.    ,   0.415 ,  11.505 ],\n",
       "       [  1.    ,   0.54  ,  17.38  ],\n",
       "       [  1.    ,   0.4417,  12.7599],\n",
       "       [  1.    ,   0.2642,   4.4174],\n",
       "       [  1.    ,   0.2643,   4.4221],\n",
       "       [  1.    ,   0.3025,   6.2175],\n",
       "       [  1.    ,   0.5733,  18.9451],\n",
       "       [  1.    ,   0.3908,  10.3676],\n",
       "       [  1.    ,   0.4375,  12.5625],\n",
       "       [  1.    ,   0.4675,  13.9725],\n",
       "       [  1.    ,   0.5125,  16.0875],\n",
       "       [  1.    ,   0.595 ,  19.965 ],\n",
       "       [  1.    ,   0.4592,  13.5824],\n",
       "       [  1.    ,   0.6067,  20.5149],\n",
       "       [  1.    ,   0.6317,  21.6899],\n",
       "       [  1.    ,   0.51  ,  15.97  ],\n",
       "       [  1.    ,   0.4592,  13.5824],\n",
       "       [  1.    ,   0.4792,  14.5224],\n",
       "       [  1.    ,   0.5325,  17.0275],\n",
       "       [  1.    ,   0.5325,  17.0275],\n",
       "       [  1.    ,   0.5425,  17.4975],\n",
       "       [  1.    ,   0.535 ,  17.145 ],\n",
       "       [  1.    ,   0.5775,  19.1425],\n",
       "       [  1.    ,   0.5367,  17.2249],\n",
       "       [  1.    ,   0.6608,  23.0576],\n",
       "       [  1.    ,   0.7083,  25.2901],\n",
       "       [  1.    ,   0.6817,  24.0399],\n",
       "       [  1.    ,   0.775 ,  28.425 ],\n",
       "       [  1.    ,   0.715 ,  25.605 ],\n",
       "       [  1.    ,   0.62  ,  21.14  ],\n",
       "       [  1.    ,   0.6783,  23.8801],\n",
       "       [  1.    ,   0.7075,  25.2525],\n",
       "       [  1.    ,   0.7758,  28.4626],\n",
       "       [  1.    ,   0.755 ,  27.485 ],\n",
       "       [  1.    ,   0.635 ,  21.845 ],\n",
       "       [  1.    ,   0.6042,  20.3974],\n",
       "       [  1.    ,   0.6267,  21.4549],\n",
       "       [  1.    ,   0.6492,  22.5124],\n",
       "       [  1.    ,   0.7333,  26.4651],\n",
       "       [  1.    ,   0.7242,  26.0374],\n",
       "       [  1.    ,   0.7442,  26.9774],\n",
       "       [  1.    ,   0.7283,  26.2301],\n",
       "       [  1.    ,   0.6967,  24.7449],\n",
       "       [  1.    ,   0.7225,  25.9575],\n",
       "       [  1.    ,   0.7467,  27.0949],\n",
       "       [  1.    ,   0.72  ,  25.84  ],\n",
       "       [  1.    ,   0.75  ,  27.25  ],\n",
       "       [  1.    ,   0.7625,  27.8375],\n",
       "       [  1.    ,   0.7942,  29.3274],\n",
       "       [  1.    ,   0.7467,  27.0949],\n",
       "       [  1.    ,   0.6808,  23.9976],\n",
       "       [  1.    ,   0.6633,  23.1751],\n",
       "       [  1.    ,   0.7467,  27.0949],\n",
       "       [  1.    ,   0.7767,  28.5049],\n",
       "       [  1.    ,   0.7683,  28.1101],\n",
       "       [  1.    ,   0.8483,  31.8701],\n",
       "       [  1.    ,   0.7433,  26.9351],\n",
       "       [  1.    ,   0.7717,  28.2699],\n",
       "       [  1.    ,   0.775 ,  28.425 ],\n",
       "       [  1.    ,   0.7792,  28.6224],\n",
       "       [  1.    ,   0.8383,  31.4001],\n",
       "       [  1.    ,   0.7717,  28.2699],\n",
       "       [  1.    ,   0.7833,  28.8151],\n",
       "       [  1.    ,   0.7108,  25.4076],\n",
       "       [  1.    ,   0.765 ,  27.955 ],\n",
       "       [  1.    ,   0.775 ,  28.425 ],\n",
       "       [  1.    ,   0.7667,  28.0349],\n",
       "       [  1.    ,   0.7175,  25.7225],\n",
       "       [  1.    ,   0.7083,  25.2901],\n",
       "       [  1.    ,   0.6658,  23.2926],\n",
       "       [  1.    ,   0.7008,  24.9376],\n",
       "       [  1.    ,   0.7233,  25.9951],\n",
       "       [  1.    ,   0.7117,  25.4499],\n",
       "       [  1.    ,   0.6917,  24.5099],\n",
       "       [  1.    ,   0.6408,  22.1176],\n",
       "       [  1.    ,   0.6733,  23.6451],\n",
       "       [  1.    ,   0.7   ,  24.9   ],\n",
       "       [  1.    ,   0.6367,  21.9249],\n",
       "       [  1.    ,   0.6392,  22.0424],\n",
       "       [  1.    ,   0.6567,  22.8649],\n",
       "       [  1.    ,   0.655 ,  22.785 ],\n",
       "       [  1.    ,   0.6443,  22.2821],\n",
       "       [  1.    ,   0.6508,  22.5876],\n",
       "       [  1.    ,   0.6733,  23.6451],\n",
       "       [  1.    ,   0.6167,  20.9849],\n",
       "       [  1.    ,   0.5642,  18.5174],\n",
       "       [  1.    ,   0.4842,  14.7574],\n",
       "       [  1.    ,   0.5383,  17.3001],\n",
       "       [  1.    ,   0.4942,  15.2274],\n",
       "       [  1.    ,   0.5108,  16.0076],\n",
       "       [  1.    ,   0.5342,  17.1074],\n",
       "       [  1.    ,   0.4758,  14.3626],\n",
       "       [  1.    ,   0.4275,  12.0925],\n",
       "       [  1.    ,   0.4633,  13.7751],\n",
       "       [  1.    ,   0.4717,  14.1699],\n",
       "       [  1.    ,   0.34  ,   7.98  ],\n",
       "       [  1.    ,   0.4008,  10.8376],\n",
       "       [  1.    ,   0.3775,   9.7425],\n",
       "       [  1.    ,   0.4083,  11.1901],\n",
       "       [  1.    ,   0.395 ,  10.565 ],\n",
       "       [  1.    ,   0.4083,  11.1901],\n",
       "       [  1.    ,   0.4   ,  10.8   ],\n",
       "       [  1.    ,   0.53  ,  16.91  ],\n",
       "       [  1.    ,   0.2742,   4.8874],\n",
       "       [  1.    ,   0.375 ,   9.625 ],\n",
       "       [  1.    ,   0.5035,  15.6645],\n",
       "       [  1.    ,   0.325 ,   7.275 ],\n",
       "       [  1.    ,   0.3125,   6.6875],\n",
       "       [  1.    ,   0.3142,   6.7674],\n",
       "       [  1.    ,   0.2658,   4.4926],\n",
       "       [  1.    ,   0.2908,   5.6676],\n",
       "       [  1.    ,   0.2383,   3.2001],\n",
       "       [  1.    ,   0.2825,   5.2775],\n",
       "       [  1.    ,   0.2767,   5.0049],\n",
       "       [  1.    ,   0.3733,   9.5451],\n",
       "       [  1.    ,   0.2991,   6.0577],\n",
       "       [  1.    ,   0.2483,   3.6701],\n",
       "       [  1.    ,   0.3117,   6.6499],\n",
       "       [  1.    ,   0.15  ,  -0.95  ],\n",
       "       [  1.    ,   0.2658,   4.4926],\n",
       "       [  1.    ,   0.3342,   7.7074],\n",
       "       [  1.    ,   0.3087,   6.5089],\n",
       "       [  1.    ,   0.2742,   4.8874],\n",
       "       [  1.    ,   0.3033,   6.2551],\n",
       "       [  1.    ,   0.19  ,   0.93  ],\n",
       "       [  1.    ,   0.3425,   8.0975],\n",
       "       [  1.    ,   0.2942,   5.8274],\n",
       "       [  1.    ,   0.2692,   4.6524],\n",
       "       [  1.    ,   0.39  ,  10.33  ],\n",
       "       [  1.    ,   0.4692,  14.0524],\n",
       "       [  1.    ,   0.3133,   6.7251],\n",
       "       [  1.    ,   0.2826,   5.2822],\n",
       "       [  1.    ,   0.3542,   8.6474],\n",
       "       [  1.    ,   0.265 ,   4.455 ],\n",
       "       [  1.    ,   0.2225,   2.4575],\n",
       "       [  1.    ,   0.3483,   8.3701],\n",
       "       [  1.    ,   0.3433,   8.1351],\n",
       "       [  1.    ,   0.2878,   5.5266],\n",
       "       [  1.    ,   0.3958,  10.6026],\n",
       "       [  1.    ,   0.4542,  13.3474],\n",
       "       [  1.    ,   0.3667,   9.2349],\n",
       "       [  1.    ,   0.3592,   8.8824],\n",
       "       [  1.    ,   0.4858,  14.8326],\n",
       "       [  1.    ,   0.2433,   3.4351],\n",
       "       [  1.    ,   0.2583,   4.1401],\n",
       "       [  1.    ,   0.4042,  10.9974],\n",
       "       [  1.    ,   0.5275,  16.7925],\n",
       "       [  1.    ,   0.4667,  13.9349],\n",
       "       [  1.    ,   0.565 ,  18.555 ],\n",
       "       [  1.    ,   0.5725,  18.9075],\n",
       "       [  1.    ,   0.5575,  18.2025],\n",
       "       [  1.    ,   0.545 ,  17.615 ],\n",
       "       [  1.    ,   0.5608,  18.3576],\n",
       "       [  1.    ,   0.5542,  18.0474],\n",
       "       [  1.    ,   0.4458,  12.9526],\n",
       "       [  1.    ,   0.3233,   7.1951],\n",
       "       [  1.    ,   0.4842,  14.7574],\n",
       "       [  1.    ,   0.4942,  15.2274],\n",
       "       [  1.    ,   0.4339,  12.3933],\n",
       "       [  1.    ,   0.4667,  13.9349],\n",
       "       [  1.    ,   0.5417,  17.4599],\n",
       "       [  1.    ,   0.435 ,  12.445 ],\n",
       "       [  1.    ,   0.4892,  14.9924],\n",
       "       [  1.    ,   0.4467,  12.9949],\n",
       "       [  1.    ,   0.3487,   8.3889],\n",
       "       [  1.    ,   0.3975,  10.6825],\n",
       "       [  1.    ,   0.4425,  12.7975],\n",
       "       [  1.    ,   0.6083,  20.5901],\n",
       "       [  1.    ,   0.4983,  15.4201],\n",
       "       [  1.    ,   0.5267,  16.7549],\n",
       "       [  1.    ,   0.4133,  11.4251],\n",
       "       [  1.    ,   0.4767,  14.4049],\n",
       "       [  1.    ,   0.4575,  13.5025],\n",
       "       [  1.    ,   0.5642,  18.5174],\n",
       "       [  1.    ,   0.6275,  21.4925],\n",
       "       [  1.    ,   0.5058,  15.7726],\n",
       "       [  1.    ,   0.5333,  17.0651],\n",
       "       [  1.    ,   0.6367,  21.9249],\n",
       "       [  1.    ,   0.5933,  19.8851],\n",
       "       [  1.    ,   0.655 ,  22.785 ],\n",
       "       [  1.    ,   0.68  ,  23.96  ],\n",
       "       [  1.    ,   0.7225,  25.9575],\n",
       "       [  1.    ,   0.68  ,  23.96  ],\n",
       "       [  1.    ,   0.5975,  20.0825],\n",
       "       [  1.    ,   0.5542,  18.0474],\n",
       "       [  1.    ,   0.6025,  20.3175],\n",
       "       [  1.    ,   0.6492,  22.5124],\n",
       "       [  1.    ,   0.6558,  22.8226],\n",
       "       [  1.    ,   0.6483,  22.4701],\n",
       "       [  1.    ,   0.6883,  24.3501],\n",
       "       [  1.    ,   0.7825,  28.7775],\n",
       "       [  1.    ,   0.8058,  29.8726],\n",
       "       [  1.    ,   0.7775,  28.5425],\n",
       "       [  1.    ,   0.7158,  25.6426],\n",
       "       [  1.    ,   0.6308,  21.6476],\n",
       "       [  1.    ,   0.6975,  24.7825],\n",
       "       [  1.    ,   0.7492,  27.2124],\n",
       "       [  1.    ,   0.8342,  31.2074],\n",
       "       [  1.    ,   0.7817,  28.7399],\n",
       "       [  1.    ,   0.7808,  28.6976],\n",
       "       [  1.    ,   0.8275,  30.8925],\n",
       "       [  1.    ,   0.8283,  30.9301],\n",
       "       [  1.    ,   0.7167,  25.6849],\n",
       "       [  1.    ,   0.7158,  25.6426],\n",
       "       [  1.    ,   0.7633,  27.8751],\n",
       "       [  1.    ,   0.8183,  30.4601],\n",
       "       [  1.    ,   0.7933,  29.2851],\n",
       "       [  1.    ,   0.77  ,  28.19  ],\n",
       "       [  1.    ,   0.7417,  26.8599],\n",
       "       [  1.    ,   0.7508,  27.2876],\n",
       "       [  1.    ,   0.7242,  26.0374],\n",
       "       [  1.    ,   0.7767,  28.5049],\n",
       "       [  1.    ,   0.7817,  28.7399],\n",
       "       [  1.    ,   0.7308,  26.3476],\n",
       "       [  1.    ,   0.7133,  25.5251],\n",
       "       [  1.    ,   0.7175,  25.7225],\n",
       "       [  1.    ,   0.7525,  27.3675],\n",
       "       [  1.    ,   0.7558,  27.5226],\n",
       "       [  1.    ,   0.7208,  25.8776],\n",
       "       [  1.    ,   0.7267,  26.1549],\n",
       "       [  1.    ,   0.7067,  25.2149],\n",
       "       [  1.    ,   0.7192,  25.8024],\n",
       "       [  1.    ,   0.7233,  25.9951],\n",
       "       [  1.    ,   0.6492,  22.5124],\n",
       "       [  1.    ,   0.6675,  23.3725],\n",
       "       [  1.    ,   0.6958,  24.7026],\n",
       "       [  1.    ,   0.7033,  25.0551],\n",
       "       [  1.    ,   0.7283,  26.2301],\n",
       "       [  1.    ,   0.685 ,  24.195 ],\n",
       "       [  1.    ,   0.7067,  25.2149],\n",
       "       [  1.    ,   0.7642,  27.9174],\n",
       "       [  1.    ,   0.7258,  26.1126],\n",
       "       [  1.    ,   0.7367,  26.6249],\n",
       "       [  1.    ,   0.7033,  25.0551],\n",
       "       [  1.    ,   0.5833,  19.4151],\n",
       "       [  1.    ,   0.5775,  19.1425],\n",
       "       [  1.    ,   0.5992,  20.1624],\n",
       "       [  1.    ,   0.6125,  20.7875],\n",
       "       [  1.    ,   0.6333,  21.7651],\n",
       "       [  1.    ,   0.5525,  17.9675],\n",
       "       [  1.    ,   0.5467,  17.6949],\n",
       "       [  1.    ,   0.5992,  20.1624],\n",
       "       [  1.    ,   0.5142,  16.1674],\n",
       "       [  1.    ,   0.55  ,  17.85  ],\n",
       "       [  1.    ,   0.635 ,  21.845 ],\n",
       "       [  1.    ,   0.5142,  16.1674],\n",
       "       [  1.    ,   0.435 ,  12.445 ],\n",
       "       [  1.    ,   0.4375,  12.5625],\n",
       "       [  1.    ,   0.4683,  14.0101],\n",
       "       [  1.    ,   0.4558,  13.4226],\n",
       "       [  1.    ,   0.4875,  14.9125],\n",
       "       [  1.    ,   0.5442,  17.5774],\n",
       "       [  1.    ,   0.5875,  19.6125],\n",
       "       [  1.    ,   0.355 ,   8.685 ],\n",
       "       [  1.    ,   0.3192,   7.0024],\n",
       "       [  1.    ,   0.2808,   5.1976],\n",
       "       [  1.    ,   0.3522,   8.5534],\n",
       "       [  1.    ,   0.3617,   8.9999],\n",
       "       [  1.    ,   0.2892,   5.5924],\n",
       "       [  1.    ,   0.345 ,   8.215 ],\n",
       "       [  1.    ,   0.3533,   8.6051],\n",
       "       [  1.    ,   0.3133,   6.7251],\n",
       "       [  1.    ,   0.2967,   5.9449],\n",
       "       [  1.    ,   0.2809,   5.2023],\n",
       "       [  1.    ,   0.2983,   6.0201],\n",
       "       [  1.    ,   0.4525,  13.2675],\n",
       "       [  1.    ,   0.4758,  14.3626],\n",
       "       [  1.    ,   0.4383,  12.6001],\n",
       "       [  1.    ,   0.2558,   4.0226],\n",
       "       [  1.    ,   0.2958,   5.9026],\n",
       "       [  1.    ,   0.2817,   5.2399],\n",
       "       [  1.    ,   0.4108,  11.3076],\n",
       "       [  1.    ,   0.3325,   7.6275]])"
      ]
     },
     "execution_count": 30,
     "metadata": {},
     "output_type": "execute_result"
    }
   ],
   "source": [
    "X1"
   ]
  },
  {
   "cell_type": "code",
   "execution_count": 34,
   "metadata": {},
   "outputs": [
    {
     "data": {
      "text/plain": [
       "array([  3.26256503e+02,   8.35565257e+00,   1.99632569e-15])"
      ]
     },
     "execution_count": 34,
     "metadata": {},
     "output_type": "execute_result"
    }
   ],
   "source": [
    "from scipy.linalg import lstsq\n",
    "\n",
    "# Compute OLS using lstsq\n",
    "w, rss, rank, sv = lstsq(X1, users)\n",
    "sv"
   ]
  },
  {
   "cell_type": "code",
   "execution_count": 35,
   "metadata": {},
   "outputs": [
    {
     "name": "stdout",
     "output_type": "stream",
     "text": [
      "R^2 normal: 0.595423308019\n",
      "R^2 collinear: 0.595423308019\n"
     ]
    }
   ],
   "source": [
    "from sklearn.metrics import r2_score\n",
    "\n",
    "# R^2 coefficient of simple linear regression\n",
    "coefs = np.polyfit(temp, users, deg=1)\n",
    "y_pred_normal = np.polyval(coefs, temp)\n",
    "r2_normal = r2_score(users, y_pred_normal)\n",
    "print('R^2 normal:', r2_normal)\n",
    "# Prints: 0.595423308019\n",
    "\n",
    "# R^2 coefficient with collinear features\n",
    "y_pred_collinear = np.matmul(X1, w)\n",
    "r2_collinear = r2_score(users, y_pred_collinear)\n",
    "print('R^2 collinear:', r2_collinear)"
   ]
  },
  {
   "cell_type": "code",
   "execution_count": 36,
   "metadata": {
    "collapsed": true
   },
   "outputs": [],
   "source": [
    "temp_F = 1.8*temp_C + 32"
   ]
  },
  {
   "cell_type": "code",
   "execution_count": 43,
   "metadata": {},
   "outputs": [
    {
     "name": "stdout",
     "output_type": "stream",
     "text": [
      "rank: 3\n",
      "RMSE: 231.589457266\n",
      "w: [-40008.15152619  -2228.50820646   1255.50479871]\n"
     ]
    }
   ],
   "source": [
    "noise = np.random.normal(loc=0, scale=0.01, size=temp_F.shape)\n",
    "temp_F += noise\n",
    "\n",
    "# Create input matrix X\n",
    "X = np.c_[temp_C, temp_F]\n",
    "\n",
    "# Compute OLS using lstsq\n",
    "X1 = np.c_[np.ones(X.shape[0]), X] # Create X1 matrix\n",
    "w, rss, rank, _ = lstsq(X1, users) # OLS\n",
    "\n",
    "print('rank:', rank) # Prints: 3\n",
    "print('RMSE:', np.sqrt(rss/len(users))) # Depends on the noise value\n",
    "print('w:', w) "
   ]
  },
  {
   "cell_type": "code",
   "execution_count": 44,
   "metadata": {},
   "outputs": [
    {
     "data": {
      "text/plain": [
       "92845.029430690964"
      ]
     },
     "execution_count": 44,
     "metadata": {},
     "output_type": "execute_result"
    }
   ],
   "source": [
    "cn = np.linalg.cond(X1)\n",
    "cn"
   ]
  },
  {
   "cell_type": "markdown",
   "metadata": {},
   "source": [
    "## Regularization"
   ]
  },
  {
   "cell_type": "code",
   "execution_count": 48,
   "metadata": {},
   "outputs": [
    {
     "name": "stdout",
     "output_type": "stream",
     "text": [
      "Coefficients: [  7.54549     13.46940862]\n",
      "Intercept: -270.538735591\n",
      "R^2: 0.595415425401\n"
     ]
    }
   ],
   "source": [
    "from sklearn.linear_model import Ridge\n",
    "\n",
    "# Add small variations\n",
    "noise = np.random.normal(loc=0, scale=0.01, size=temp_F.shape)\n",
    "temp_F = (1.8*temp_C + 32) + noise\n",
    "\n",
    "# Create input matrix X\n",
    "X = np.c_[temp_C, temp_F]\n",
    "\n",
    "# Fit a Ridge regression\n",
    "ridge = Ridge(alpha=100)\n",
    "ridge.fit(X, users)\n",
    "\n",
    "print('Coefficients:', ridge.coef_)\n",
    "print('Intercept:', ridge.intercept_)\n",
    "print('R^2:', ridge.score(X, users))"
   ]
  },
  {
   "cell_type": "code",
   "execution_count": null,
   "metadata": {
    "collapsed": true
   },
   "outputs": [],
   "source": []
  },
  {
   "cell_type": "code",
   "execution_count": null,
   "metadata": {
    "collapsed": true
   },
   "outputs": [],
   "source": []
  },
  {
   "cell_type": "code",
   "execution_count": null,
   "metadata": {
    "collapsed": true
   },
   "outputs": [],
   "source": []
  },
  {
   "cell_type": "code",
   "execution_count": null,
   "metadata": {
    "collapsed": true
   },
   "outputs": [],
   "source": []
  },
  {
   "cell_type": "code",
   "execution_count": null,
   "metadata": {
    "collapsed": true
   },
   "outputs": [],
   "source": []
  },
  {
   "cell_type": "code",
   "execution_count": 32,
   "metadata": {},
   "outputs": [
    {
     "data": {
      "text/plain": [
       "array([], dtype=float64)"
      ]
     },
     "execution_count": 32,
     "metadata": {},
     "output_type": "execute_result"
    }
   ],
   "source": [
    "rss"
   ]
  },
  {
   "cell_type": "code",
   "execution_count": 33,
   "metadata": {},
   "outputs": [
    {
     "data": {
      "text/plain": [
       "2"
      ]
     },
     "execution_count": 33,
     "metadata": {},
     "output_type": "execute_result"
    }
   ],
   "source": [
    "rank"
   ]
  },
  {
   "cell_type": "code",
   "execution_count": null,
   "metadata": {
    "collapsed": true
   },
   "outputs": [],
   "source": []
  },
  {
   "cell_type": "code",
   "execution_count": null,
   "metadata": {
    "collapsed": true
   },
   "outputs": [],
   "source": []
  },
  {
   "cell_type": "code",
   "execution_count": null,
   "metadata": {
    "collapsed": true
   },
   "outputs": [],
   "source": []
  }
 ],
 "metadata": {
  "kernelspec": {
   "display_name": "Python 3",
   "language": "python",
   "name": "python3"
  },
  "language_info": {
   "codemirror_mode": {
    "name": "ipython",
    "version": 3
   },
   "file_extension": ".py",
   "mimetype": "text/x-python",
   "name": "python",
   "nbconvert_exporter": "python",
   "pygments_lexer": "ipython3",
   "version": "3.6.2"
  }
 },
 "nbformat": 4,
 "nbformat_minor": 2
}
