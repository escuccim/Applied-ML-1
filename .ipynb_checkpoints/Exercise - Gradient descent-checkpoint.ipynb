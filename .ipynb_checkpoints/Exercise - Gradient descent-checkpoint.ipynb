{
 "cells": [
  {
   "cell_type": "markdown",
   "metadata": {},
   "source": [
    "# Exercise - Gradient descent"
   ]
  },
  {
   "cell_type": "markdown",
   "metadata": {},
   "source": [
    "## Exercise - Fit a linear regression with OLS\n",
    "\n",
    "> **Exercise**: Load the train and test sets. Fit a linear regression using OLS with the `LinearRegression` object from Scikit-learn. Compute the train and test RMSE scores."
   ]
  },
  {
   "cell_type": "code",
   "execution_count": 6,
   "metadata": {},
   "outputs": [],
   "source": [
    "import pandas as pd\n",
    "import numpy as np\n",
    "import matplotlib.pyplot as plt\n",
    "%matplotlib inline\n",
    "\n",
    "# Load train/test data\n",
    "train = pd.read_csv(\"data/bike-sharing-train.csv\")\n",
    "test = pd.read_csv(\"data/bike-sharing-test.csv\")\n",
    "\n",
    "X_tr = train.drop(\"casual\", axis=1)\n",
    "y_tr = train.casual\n",
    "\n",
    "X_te = test.drop(\"casual\", axis=1)\n",
    "y_te = test.casual"
   ]
  },
  {
   "cell_type": "code",
   "execution_count": 7,
   "metadata": {
    "collapsed": true
   },
   "outputs": [],
   "source": [
    "def MAE(y, y_pred):\n",
    "    return np.mean(np.abs(y - y_pred))"
   ]
  },
  {
   "cell_type": "code",
   "execution_count": null,
   "metadata": {
    "collapsed": true
   },
   "outputs": [],
   "source": []
  },
  {
   "cell_type": "code",
   "execution_count": 8,
   "metadata": {
    "collapsed": true
   },
   "outputs": [],
   "source": [
    "# Implement RMSE\n",
    "def rmse(y, y_pred):\n",
    "    return np.sqrt(np.mean(np.square(y - y_pred)))"
   ]
  },
  {
   "cell_type": "code",
   "execution_count": 21,
   "metadata": {},
   "outputs": [
    {
     "name": "stdout",
     "output_type": "stream",
     "text": [
      "Linear regression (OLS) - train RMSE: 397.42\n",
      "Linear regression (OLS) - test RMSE: 388.67\n"
     ]
    }
   ],
   "source": [
    "from sklearn.linear_model import LinearRegression\n",
    "from scipy.linalg import lstsq\n",
    "\n",
    "# Fit a linear regression using OLS\n",
    "w, rss, rank, sv = lstsq(X_tr, y_tr)\n",
    "\n",
    "# Evaluate model\n",
    "y_pred = np.matmul(X_tr, w)\n",
    "y_pred_te = np.matmul(X_te, w)\n",
    "\n",
    "lr_rmse_tr = rmse(y_pred, y_tr)\n",
    "lr_rmse_te = rmse(y_pred_te, y_te)\n",
    "\n",
    "print('Linear regression (OLS) - train RMSE: {:.2f}'.format(lr_rmse_tr))\n",
    "print('Linear regression (OLS) - test RMSE: {:.2f}'.format(lr_rmse_te))"
   ]
  },
  {
   "cell_type": "code",
   "execution_count": 22,
   "metadata": {},
   "outputs": [
    {
     "data": {
      "text/plain": [
       "temp           0.494359\n",
       "temp_C        15.234868\n",
       "hum            0.622978\n",
       "windspeed      0.191923\n",
       "atemp          0.472411\n",
       "atemp_C       15.179123\n",
       "yr             0.498630\n",
       "workingday     0.695890\n",
       "holiday        0.032877\n",
       "dtype: float64"
      ]
     },
     "execution_count": 22,
     "metadata": {},
     "output_type": "execute_result"
    }
   ],
   "source": [
    "np.mean(X_tr)"
   ]
  },
  {
   "cell_type": "code",
   "execution_count": null,
   "metadata": {
    "collapsed": true
   },
   "outputs": [],
   "source": []
  },
  {
   "cell_type": "markdown",
   "metadata": {},
   "source": [
    "## Exercise - Fit a linear regression with gradient descent\n",
    "\n",
    "> **Exercise**: Standardize the features using the train data, i.e., train mean and standard deviation. Fit a linear regression to the train data with gradient descent and evaluate its performance on the test data.\n",
    "\n",
    "**Hint**: Test different different learning rates, e.g., 0.01, 0.1, 0.5"
   ]
  },
  {
   "cell_type": "code",
   "execution_count": 29,
   "metadata": {
    "collapsed": true
   },
   "outputs": [],
   "source": [
    "# Standardize features using train mean and standard deviation\n",
    "X_nor = (X_tr - np.mean(X_tr)) / np.std(X_tr)\n",
    "X_te_nor = (X_te - np.mean(X_te)) / np.std(X_te)\n",
    "# Add intercept\n",
    "X_nor = np.c_[np.ones(X_nor.shape[0]), X_nor]\n",
    "X_te_nor = np.c_[np.ones(X_te_nor.shape[0]), X_te_nor]"
   ]
  },
  {
   "cell_type": "code",
   "execution_count": 27,
   "metadata": {},
   "outputs": [
    {
     "data": {
      "text/plain": [
       "(365, 9)"
      ]
     },
     "execution_count": 27,
     "metadata": {},
     "output_type": "execute_result"
    }
   ],
   "source": [
    "X_nor.shape"
   ]
  },
  {
   "cell_type": "code",
   "execution_count": 28,
   "metadata": {},
   "outputs": [
    {
     "data": {
      "text/html": [
       "<div>\n",
       "<style>\n",
       "    .dataframe thead tr:only-child th {\n",
       "        text-align: right;\n",
       "    }\n",
       "\n",
       "    .dataframe thead th {\n",
       "        text-align: left;\n",
       "    }\n",
       "\n",
       "    .dataframe tbody tr th {\n",
       "        vertical-align: top;\n",
       "    }\n",
       "</style>\n",
       "<table border=\"1\" class=\"dataframe\">\n",
       "  <thead>\n",
       "    <tr style=\"text-align: right;\">\n",
       "      <th></th>\n",
       "      <th>temp</th>\n",
       "      <th>temp_C</th>\n",
       "      <th>hum</th>\n",
       "      <th>windspeed</th>\n",
       "      <th>atemp</th>\n",
       "      <th>atemp_C</th>\n",
       "      <th>yr</th>\n",
       "      <th>workingday</th>\n",
       "      <th>holiday</th>\n",
       "    </tr>\n",
       "  </thead>\n",
       "  <tbody>\n",
       "    <tr>\n",
       "      <th>0</th>\n",
       "      <td>-0.679810</td>\n",
       "      <td>-0.679810</td>\n",
       "      <td>-0.384934</td>\n",
       "      <td>-0.546678</td>\n",
       "      <td>-0.562882</td>\n",
       "      <td>-0.562882</td>\n",
       "      <td>1.002743</td>\n",
       "      <td>0.661066</td>\n",
       "      <td>-0.184376</td>\n",
       "    </tr>\n",
       "    <tr>\n",
       "      <th>1</th>\n",
       "      <td>1.106347</td>\n",
       "      <td>1.106347</td>\n",
       "      <td>0.984276</td>\n",
       "      <td>-1.343235</td>\n",
       "      <td>1.130386</td>\n",
       "      <td>1.130386</td>\n",
       "      <td>-0.997264</td>\n",
       "      <td>0.661066</td>\n",
       "      <td>-0.184376</td>\n",
       "    </tr>\n",
       "    <tr>\n",
       "      <th>2</th>\n",
       "      <td>-1.142489</td>\n",
       "      <td>-1.142489</td>\n",
       "      <td>-0.606004</td>\n",
       "      <td>-0.061276</td>\n",
       "      <td>-1.147391</td>\n",
       "      <td>-1.147391</td>\n",
       "      <td>-0.997264</td>\n",
       "      <td>-1.512709</td>\n",
       "      <td>-0.184376</td>\n",
       "    </tr>\n",
       "    <tr>\n",
       "      <th>3</th>\n",
       "      <td>-0.857349</td>\n",
       "      <td>-0.857349</td>\n",
       "      <td>-1.233559</td>\n",
       "      <td>1.444714</td>\n",
       "      <td>-0.918408</td>\n",
       "      <td>-0.918408</td>\n",
       "      <td>-0.997264</td>\n",
       "      <td>0.661066</td>\n",
       "      <td>-0.184376</td>\n",
       "    </tr>\n",
       "    <tr>\n",
       "      <th>4</th>\n",
       "      <td>-0.518410</td>\n",
       "      <td>-0.518410</td>\n",
       "      <td>-1.119458</td>\n",
       "      <td>1.220682</td>\n",
       "      <td>-0.508649</td>\n",
       "      <td>-0.508649</td>\n",
       "      <td>1.002743</td>\n",
       "      <td>0.661066</td>\n",
       "      <td>-0.184376</td>\n",
       "    </tr>\n",
       "  </tbody>\n",
       "</table>\n",
       "</div>"
      ],
      "text/plain": [
       "       temp    temp_C       hum  windspeed     atemp   atemp_C        yr  \\\n",
       "0 -0.679810 -0.679810 -0.384934  -0.546678 -0.562882 -0.562882  1.002743   \n",
       "1  1.106347  1.106347  0.984276  -1.343235  1.130386  1.130386 -0.997264   \n",
       "2 -1.142489 -1.142489 -0.606004  -0.061276 -1.147391 -1.147391 -0.997264   \n",
       "3 -0.857349 -0.857349 -1.233559   1.444714 -0.918408 -0.918408 -0.997264   \n",
       "4 -0.518410 -0.518410 -1.119458   1.220682 -0.508649 -0.508649  1.002743   \n",
       "\n",
       "   workingday   holiday  \n",
       "0    0.661066 -0.184376  \n",
       "1    0.661066 -0.184376  \n",
       "2   -1.512709 -0.184376  \n",
       "3    0.661066 -0.184376  \n",
       "4    0.661066 -0.184376  "
      ]
     },
     "execution_count": 28,
     "metadata": {},
     "output_type": "execute_result"
    }
   ],
   "source": [
    "X_nor.head()"
   ]
  },
  {
   "cell_type": "code",
   "execution_count": null,
   "metadata": {
    "collapsed": true
   },
   "outputs": [],
   "source": []
  },
  {
   "cell_type": "code",
   "execution_count": null,
   "metadata": {
    "collapsed": true
   },
   "outputs": [],
   "source": [
    "# Implement gradient descent\n",
    "def gd(X, y, lr, n_steps):\n",
    "    # Initialize vector of parameters\n",
    "    w = np.zeros(X.shape[1])\n",
    "    \n",
    "    # Log RMSE at each step\n",
    "    log_rmse = []\n",
    "    \n",
    "    # Perform n_steps iterations\n",
    "    for step in range(n_steps):\n",
    "        # Compute the predictions\n",
    "        y_pred = np.matmul(X, w)\n",
    "        error = y - y_pred\n",
    "        gradient = -2*np.matmul(X.T, error)/X.shape[0]\n",
    "        \n",
    "        # Update the vector of parameters\n",
    "        w -= lr*gradient\n",
    "        \n",
    "        # Log RMSE value\n",
    "        log_rmse.append(rmse(y_tr, y_pred))\n",
    "        \n",
    "    # Return vector of parameters and last RMSE value\n",
    "    return w, log_rmse[-1]\n",
    "\n",
    "# Fit linear regression\n",
    "w, gd_rmse_tr = gd(X_nor, y_tr, 0.1, 300 )\n",
    "\n",
    "# Evaluate model\n",
    "y_pred_te = np.matmul(X_te_nor, w)\n",
    "gd_rmse_te = rmse(y_pred_te, y_te)\n",
    "\n",
    "print('Linear regression (GD) - train RMSE: {:.2f}'.format(gd_rmse_tr))\n",
    "print('Linear regression (GD) - test RMSE: {:.2f}'.format(gd_rmse_te))"
   ]
  }
 ],
 "metadata": {
  "kernelspec": {
   "display_name": "Python 3",
   "language": "python",
   "name": "python3"
  },
  "language_info": {
   "codemirror_mode": {
    "name": "ipython",
    "version": 3
   },
   "file_extension": ".py",
   "mimetype": "text/x-python",
   "name": "python",
   "nbconvert_exporter": "python",
   "pygments_lexer": "ipython3",
   "version": "3.6.2"
  }
 },
 "nbformat": 4,
 "nbformat_minor": 2
}
