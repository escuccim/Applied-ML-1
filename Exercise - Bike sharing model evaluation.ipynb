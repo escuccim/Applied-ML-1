{
 "cells": [
  {
   "cell_type": "markdown",
   "metadata": {},
   "source": [
    "# Bike sharing model evaluation"
   ]
  },
  {
   "cell_type": "markdown",
   "metadata": {},
   "source": [
    "## Exercise: Load train/test sets\n",
    "\n",
    "> **Exercise**: Load the train/test sets into the `train_df`/`test_df` DataFrames. Create the x/y Numpy arrays from the `temp` and `users` columns. Plot the data points."
   ]
  },
  {
   "cell_type": "code",
   "execution_count": 4,
   "metadata": {},
   "outputs": [
    {
     "data": {
      "image/png": "[encoded data removed]",
      "text/plain": [
       "<matplotlib.figure.Figure at 0x148db0875c0>"
      ]
     },
     "metadata": {},
     "output_type": "display_data"
    }
   ],
   "source": [
    "import numpy as np\n",
    "import pandas as pd\n",
    "import matplotlib.pyplot as plt\n",
    "%matplotlib inline\n",
    "\n",
    "# Load data sets\n",
    "train_df = pd.read_csv('data/bike-sharing-train.csv')\n",
    "test_df = pd.read_csv('data/bike-sharing-test.csv')\n",
    "\n",
    "# Create x/y Numpy arrays\n",
    "x_tr = train_df['temp']\n",
    "y_tr = train_df['users']\n",
    "\n",
    "x_te = test_df['temp']\n",
    "y_te = test_df['users']\n",
    "\n",
    "# Plot data points\n",
    "plt.scatter(x_tr, y_tr, color=\"blue\", label=\"Training set\")\n",
    "plt.scatter(x_te, y_te, color=\"green\", label=\"Test set\")\n",
    "plt.legend()\n",
    "plt.show()"
   ]
  },
  {
   "cell_type": "code",
   "execution_count": null,
   "metadata": {
    "collapsed": true
   },
   "outputs": [],
   "source": []
  },
  {
   "cell_type": "code",
   "execution_count": null,
   "metadata": {
    "collapsed": true
   },
   "outputs": [],
   "source": []
  },
  {
   "cell_type": "code",
   "execution_count": 2,
   "metadata": {},
   "outputs": [
    {
     "data": {
      "text/html": [
       "<div>\n",
       "<style>\n",
       "    .dataframe thead tr:only-child th {\n",
       "        text-align: right;\n",
       "    }\n",
       "\n",
       "    .dataframe thead th {\n",
       "        text-align: left;\n",
       "    }\n",
       "\n",
       "    .dataframe tbody tr th {\n",
       "        vertical-align: top;\n",
       "    }\n",
       "</style>\n",
       "<table border=\"1\" class=\"dataframe\">\n",
       "  <thead>\n",
       "    <tr style=\"text-align: right;\">\n",
       "      <th></th>\n",
       "      <th>temp</th>\n",
       "      <th>users</th>\n",
       "    </tr>\n",
       "  </thead>\n",
       "  <tbody>\n",
       "    <tr>\n",
       "      <th>0</th>\n",
       "      <td>0.368</td>\n",
       "      <td>1603</td>\n",
       "    </tr>\n",
       "    <tr>\n",
       "      <th>1</th>\n",
       "      <td>0.700</td>\n",
       "      <td>768</td>\n",
       "    </tr>\n",
       "    <tr>\n",
       "      <th>2</th>\n",
       "      <td>0.282</td>\n",
       "      <td>424</td>\n",
       "    </tr>\n",
       "    <tr>\n",
       "      <th>3</th>\n",
       "      <td>0.335</td>\n",
       "      <td>231</td>\n",
       "    </tr>\n",
       "    <tr>\n",
       "      <th>4</th>\n",
       "      <td>0.398</td>\n",
       "      <td>663</td>\n",
       "    </tr>\n",
       "  </tbody>\n",
       "</table>\n",
       "</div>"
      ],
      "text/plain": [
       "    temp  users\n",
       "0  0.368   1603\n",
       "1  0.700    768\n",
       "2  0.282    424\n",
       "3  0.335    231\n",
       "4  0.398    663"
      ]
     },
     "execution_count": 2,
     "metadata": {},
     "output_type": "execute_result"
    }
   ],
   "source": [
    "train_df.head()"
   ]
  },
  {
   "cell_type": "code",
   "execution_count": null,
   "metadata": {
    "collapsed": true
   },
   "outputs": [],
   "source": []
  },
  {
   "cell_type": "markdown",
   "metadata": {},
   "source": [
    " ## Exercise: Fit and compare different models\n",
    "\n",
    "> **Exercise**: (A) Fit several models to the train data and evaluate their performance on the test set using MAE. (B) Remove the outliers with the z-scores. (C) Create a baseline model and do a final model comparison using a bar chart.\n",
    "\n",
    "Some ideas: Linear regression, polyfit with different degrees, linear regression with Huber loss, linear regression without outliers, polyfit without outliers."
   ]
  },
  {
   "cell_type": "code",
   "execution_count": 5,
   "metadata": {
    "collapsed": true
   },
   "outputs": [],
   "source": [
    "# Define the MAE cost function\n",
    "def MAE(y, y_pred):\n",
    "    return np.mean(np.abs(y - y_pred))"
   ]
  },
  {
   "cell_type": "code",
   "execution_count": 25,
   "metadata": {},
   "outputs": [],
   "source": [
    "# (A) Test different models\n",
    "from sklearn.linear_model import SGDRegressor\n",
    "\n",
    "# Huber Model\n",
    "lm_huber = SGDRegressor(loss='huber', penalty='none', epsilon=1, max_iter=10000)\n",
    "lm1 = lm_huber.fit(x_tr[:, np.newaxis], y_tr)\n",
    "\n",
    "# Square loss model\n",
    "lm_squared = SGDRegressor(loss='squared_loss', penalty='none', max_iter=10000)\n",
    "lm2 = lm_squared.fit(x_tr[:, np.newaxis], y_tr)\n",
    "\n",
    "# Polyfit with one degree\n",
    "coefs_lm3 = np.polyfit(x_tr, y_tr, deg=1)\n",
    "\n",
    "# Two degree\n",
    "coefs_lm4 = np.polyfit(x_tr, y_tr, deg=2)\n",
    "\n",
    "# Square loss with outliers removed\n",
    "z_score = (x_tr - x_tr.mean()) / x_tr.std()\n",
    "z_score.head()\n",
    "x_tr_filtered = x_tr[np.abs(z_score) < 3]\n",
    "y_tr_filtered = y_tr[np.abs(z_score) < 3]\n",
    "lm_squared2 = SGDRegressor(loss='squared_loss', penalty='none', max_iter=10000)\n",
    "lm3 = lm_squared2.fit(x_tr_filtered[:, np.newaxis], y_tr_filtered)"
   ]
  },
  {
   "cell_type": "code",
   "execution_count": null,
   "metadata": {
    "collapsed": true
   },
   "outputs": [],
   "source": []
  },
  {
   "cell_type": "code",
   "execution_count": 15,
   "metadata": {
    "collapsed": true
   },
   "outputs": [],
   "source": [
    "# (B) Remove outliers\n",
    "#???"
   ]
  },
  {
   "cell_type": "code",
   "execution_count": 17,
   "metadata": {},
   "outputs": [
    {
     "data": {
      "text/plain": [
       "DummyRegressor(constant=None, quantile=None, strategy='mean')"
      ]
     },
     "execution_count": 17,
     "metadata": {},
     "output_type": "execute_result"
    }
   ],
   "source": [
    "from sklearn.dummy import DummyRegressor\n",
    "\n",
    "# Create the DummyRegressor object\n",
    "dummy = DummyRegressor(strategy='mean')\n",
    "dummy.fit(x_tr[:, np.newaxis], y_tr)"
   ]
  },
  {
   "cell_type": "code",
   "execution_count": 22,
   "metadata": {},
   "outputs": [],
   "source": [
    "pred_baseline = dummy.predict(x_te[:, np.newaxis])\n",
    "mae_baseline = MAE(y_te, pred_baseline)"
   ]
  },
  {
   "cell_type": "code",
   "execution_count": 27,
   "metadata": {},
   "outputs": [],
   "source": [
    "pred1 = lm_huber.predict(x_te[:, np.newaxis])\n",
    "pred2 = lm_squared.predict(x_te[:, np.newaxis])\n",
    "pred3 = np.polyval(coefs_lm3, x_te)\n",
    "pred4 = np.polyval(coefs_lm4, x_te)\n",
    "pred5 = lm_squared2.predict(x_te[:, np.newaxis])"
   ]
  },
  {
   "cell_type": "code",
   "execution_count": 28,
   "metadata": {
    "collapsed": true
   },
   "outputs": [],
   "source": [
    "mae1 = MAE(y_te, pred1)\n",
    "mae2 = MAE(y_te, pred2)\n",
    "mae3 = MAE(y_te, pred3)\n",
    "mae4 = MAE(y_te, pred4)\n",
    "mae5 = MAE(y_te, pred5)"
   ]
  },
  {
   "cell_type": "code",
   "execution_count": 29,
   "metadata": {},
   "outputs": [
    {
     "data": {
      "image/png": "[encoded data removed]",
      "text/plain": [
       "<matplotlib.figure.Figure at 0x148dca53160>"
      ]
     },
     "metadata": {},
     "output_type": "display_data"
    }
   ],
   "source": [
    "plt.bar([1, 2, 3, 4, 5, 6], [mae_baseline, mae1, mae2, mae3, mae4, mae5])\n",
    "plt.xticks([1, 2, 3, 4, 5, 6], ['baseline (mean)', 'huber', 'square', 'pv1','pv2', 'square - ol'])\n",
    "plt.show()"
   ]
  },
  {
   "cell_type": "code",
   "execution_count": 30,
   "metadata": {},
   "outputs": [
    {
     "name": "stdout",
     "output_type": "stream",
     "text": [
      "475.963649311\n",
      "408.640725696\n",
      "408.822638215\n",
      "406.667019946\n",
      "408.769366707\n"
     ]
    }
   ],
   "source": [
    "print(mae1)\n",
    "print(mae2)\n",
    "print(mae3)\n",
    "print(mae4)\n",
    "print(mae5)"
   ]
  },
  {
   "cell_type": "code",
   "execution_count": null,
   "metadata": {
    "collapsed": true
   },
   "outputs": [],
   "source": []
  },
  {
   "cell_type": "code",
   "execution_count": null,
   "metadata": {
    "collapsed": true
   },
   "outputs": [],
   "source": [
    "# (C) Final comparison\n",
    "???"
   ]
  }
 ],
 "metadata": {
  "kernelspec": {
   "display_name": "Python 3",
   "language": "python",
   "name": "python3"
  },
  "language_info": {
   "codemirror_mode": {
    "name": "ipython",
    "version": 3
   },
   "file_extension": ".py",
   "mimetype": "text/x-python",
   "name": "python",
   "nbconvert_exporter": "python",
   "pygments_lexer": "ipython3",
   "version": "3.6.2"
  }
 },
 "nbformat": 4,
 "nbformat_minor": 2
}
