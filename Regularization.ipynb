{
 "cells": [
  {
   "cell_type": "code",
   "execution_count": 1,
   "metadata": {},
   "outputs": [
    {
     "name": "stdout",
     "output_type": "stream",
     "text": [
      "Shape: (50, 2)\n"
     ]
    },
    {
     "data": {
      "text/html": [
       "<div>\n",
       "<style>\n",
       "    .dataframe thead tr:only-child th {\n",
       "        text-align: right;\n",
       "    }\n",
       "\n",
       "    .dataframe thead th {\n",
       "        text-align: left;\n",
       "    }\n",
       "\n",
       "    .dataframe tbody tr th {\n",
       "        vertical-align: top;\n",
       "    }\n",
       "</style>\n",
       "<table border=\"1\" class=\"dataframe\">\n",
       "  <thead>\n",
       "    <tr style=\"text-align: right;\">\n",
       "      <th></th>\n",
       "      <th>x</th>\n",
       "      <th>y</th>\n",
       "    </tr>\n",
       "  </thead>\n",
       "  <tbody>\n",
       "    <tr>\n",
       "      <th>0</th>\n",
       "      <td>0.000</td>\n",
       "      <td>0.706</td>\n",
       "    </tr>\n",
       "    <tr>\n",
       "      <th>1</th>\n",
       "      <td>0.020</td>\n",
       "      <td>0.288</td>\n",
       "    </tr>\n",
       "    <tr>\n",
       "      <th>2</th>\n",
       "      <td>0.041</td>\n",
       "      <td>0.645</td>\n",
       "    </tr>\n",
       "    <tr>\n",
       "      <th>3</th>\n",
       "      <td>0.061</td>\n",
       "      <td>1.272</td>\n",
       "    </tr>\n",
       "    <tr>\n",
       "      <th>4</th>\n",
       "      <td>0.082</td>\n",
       "      <td>1.238</td>\n",
       "    </tr>\n",
       "  </tbody>\n",
       "</table>\n",
       "</div>"
      ],
      "text/plain": [
       "       x      y\n",
       "0  0.000  0.706\n",
       "1  0.020  0.288\n",
       "2  0.041  0.645\n",
       "3  0.061  1.272\n",
       "4  0.082  1.238"
      ]
     },
     "execution_count": 1,
     "metadata": {},
     "output_type": "execute_result"
    }
   ],
   "source": [
    "import pandas as pd\n",
    "\n",
    "# Load the data\n",
    "data_df = pd.read_csv('data-points.csv')\n",
    "\n",
    "# Print shape\n",
    "print('Shape:', data_df.shape) # (50, 2)\n",
    "\n",
    "# First five rows\n",
    "data_df.head()"
   ]
  },
  {
   "cell_type": "code",
   "execution_count": 2,
   "metadata": {},
   "outputs": [
    {
     "data": {
      "image/png": "[encoded data removed]",
      "text/plain": [
       "<matplotlib.figure.Figure at 0x1ef000b9278>"
      ]
     },
     "metadata": {},
     "output_type": "display_data"
    }
   ],
   "source": [
    "x = data_df.x.values\n",
    "y = data_df.y.values\n",
    "\n",
    "# Plot data points\n",
    "%matplotlib inline\n",
    "import matplotlib.pyplot as plt\n",
    "\n",
    "plt.scatter(x, y)\n",
    "plt.show()"
   ]
  },
  {
   "cell_type": "code",
   "execution_count": 3,
   "metadata": {},
   "outputs": [
    {
     "name": "stdout",
     "output_type": "stream",
     "text": [
      "Shape: (50, 10)\n",
      "Features: ['x0', 'x0^2', 'x0^3', 'x0^4', 'x0^5', 'x0^6', 'x0^7', 'x0^8', 'x0^9', 'x0^10']\n"
     ]
    }
   ],
   "source": [
    "from sklearn.preprocessing import PolynomialFeatures\n",
    "import numpy as np\n",
    "\n",
    "# Create the polynomial features\n",
    "poly_obj = PolynomialFeatures(degree=10, include_bias=False)\n",
    "X_poly = poly_obj.fit_transform(x[:, np.newaxis])\n",
    "\n",
    "print('Shape:', X_poly.shape) # (50, 10)\n",
    "print('Features:', poly_obj.get_feature_names())"
   ]
  },
  {
   "cell_type": "code",
   "execution_count": 4,
   "metadata": {},
   "outputs": [
    {
     "name": "stdout",
     "output_type": "stream",
     "text": [
      "Train set: (25, 10) (25,)\n",
      "Test set: (25, 10) (25,)\n"
     ]
    }
   ],
   "source": [
    "from sklearn.model_selection import train_test_split\n",
    "\n",
    "# Split into train/test sets\n",
    "X_tr, X_te, y_tr, y_te = train_test_split(\n",
    "    X_poly, y, test_size=25, random_state=0)\n",
    "\n",
    "print('Train set:', X_tr.shape, y_tr.shape) # (25, 10) (25,)\n",
    "print('Test set:', X_te.shape, y_te.shape)"
   ]
  },
  {
   "cell_type": "code",
   "execution_count": 5,
   "metadata": {},
   "outputs": [
    {
     "data": {
      "image/png": "[encoded data removed]",
      "text/plain": [
       "<matplotlib.figure.Figure at 0x1ef019cc7f0>"
      ]
     },
     "metadata": {},
     "output_type": "display_data"
    }
   ],
   "source": [
    "from sklearn.linear_model import LinearRegression\n",
    "\n",
    "# Linear regression\n",
    "lr = LinearRegression()\n",
    "lr.fit(X_tr, y_tr)\n",
    "\n",
    "# Plot the model\n",
    "x_values = np.linspace(min(x), max(x), num=100)\n",
    "x_values_poly = poly_obj.transform(x_values[:, np.newaxis])\n",
    "y_values_lr = lr.predict(x_values_poly)\n",
    "\n",
    "plt.scatter(X_tr[:, 0], y_tr, label='train set')\n",
    "plt.scatter(X_te[:, 0], y_te, label='test set')\n",
    "plt.plot(x_values, y_values_lr)\n",
    "plt.legend()\n",
    "plt.show()"
   ]
  },
  {
   "cell_type": "code",
   "execution_count": 7,
   "metadata": {},
   "outputs": [
    {
     "name": "stdout",
     "output_type": "stream",
     "text": [
      "Train MSE: 0.18\n",
      "Test MSE: 0.45\n"
     ]
    }
   ],
   "source": [
    "from sklearn.metrics import mean_squared_error as mse\n",
    "\n",
    "y_pred = lr.predict(X_tr)\n",
    "print('Train MSE: {:.2f}'.format(mse(y_tr, y_pred)))\n",
    "# Prints: 0.18\n",
    "\n",
    "# Test score\n",
    "y_pred = lr.predict(X_te)\n",
    "print('Test MSE: {:.2f}'.format(mse(y_te, y_pred)))\n",
    "# Prints: 0.45"
   ]
  },
  {
   "cell_type": "markdown",
   "metadata": {},
   "source": [
    "## Ridge Regression"
   ]
  },
  {
   "cell_type": "code",
   "execution_count": 8,
   "metadata": {},
   "outputs": [
    {
     "data": {
      "image/png": "[encoded data removed]",
      "text/plain": [
       "<matplotlib.figure.Figure at 0x1ef01b00dd8>"
      ]
     },
     "metadata": {},
     "output_type": "display_data"
    }
   ],
   "source": [
    "from sklearn.linear_model import Ridge\n",
    "\n",
    "# Ridge regression\n",
    "ridge = Ridge()\n",
    "ridge.fit(X_tr, y_tr)\n",
    "\n",
    "# Plot the model\n",
    "y_values_ridge = ridge.predict(x_values_poly)\n",
    "\n",
    "plt.scatter(X_tr[:, 0], y_tr, label='train set')\n",
    "plt.scatter(X_te[:, 0], y_te, label='test set')\n",
    "plt.plot(x_values, y_values_ridge)\n",
    "plt.legend()\n",
    "plt.show()"
   ]
  },
  {
   "cell_type": "code",
   "execution_count": 9,
   "metadata": {},
   "outputs": [
    {
     "data": {
      "image/png": "[encoded data removed]",
      "text/plain": [
       "<matplotlib.figure.Figure at 0x1ef00d20b38>"
      ]
     },
     "metadata": {},
     "output_type": "display_data"
    }
   ],
   "source": [
    "ridge2 = Ridge(alpha=1e-4)\n",
    "ridge2.fit(X_tr, y_tr)\n",
    "\n",
    "# Plot the model\n",
    "y_values_ridge2 = ridge2.predict(x_values_poly)\n",
    "\n",
    "plt.scatter(X_tr[:, 0], y_tr, label='train set')\n",
    "plt.scatter(X_te[:, 0], y_te, label='test set')\n",
    "plt.plot(x_values, y_values_ridge2)\n",
    "plt.legend()\n",
    "plt.show()"
   ]
  },
  {
   "cell_type": "code",
   "execution_count": 10,
   "metadata": {},
   "outputs": [
    {
     "name": "stdout",
     "output_type": "stream",
     "text": [
      "Train MSE: 0.19\n",
      "Test MSE: 0.21\n"
     ]
    }
   ],
   "source": [
    "y_pred = ridge2.predict(X_tr)\n",
    "print('Train MSE: {:.2f}'.format(mse(y_tr, y_pred)))\n",
    "# Prints: 0.19\n",
    "\n",
    "# Test score\n",
    "y_pred = ridge2.predict(X_te)\n",
    "print('Test MSE: {:.2f}'.format(mse(y_te, y_pred)))"
   ]
  },
  {
   "cell_type": "code",
   "execution_count": 11,
   "metadata": {},
   "outputs": [
    {
     "name": "stdout",
     "output_type": "stream",
     "text": [
      "x0: 5.9\n",
      "x0^2: -45.8\n",
      "x0^3: -534.7\n",
      "x0^4: 11490.9\n",
      "x0^5: -73308.3\n",
      "x0^6: 230833.5\n",
      "x0^7: -404599.2\n",
      "x0^8: 402333.8\n",
      "x0^9: -212583.7\n",
      "x0^10: 46407.0\n"
     ]
    }
   ],
   "source": [
    "features = poly_obj.get_feature_names()\n",
    "for feature, coef in zip(features, lr.coef_):\n",
    "    print('{}: {:.1f}'.format(feature, coef))"
   ]
  },
  {
   "cell_type": "code",
   "execution_count": 12,
   "metadata": {},
   "outputs": [
    {
     "name": "stdout",
     "output_type": "stream",
     "text": [
      "x0: 4.9\n",
      "x0^2: -14.8\n",
      "x0^3: 0.8\n",
      "x0^4: 7.5\n",
      "x0^5: 4.6\n",
      "x0^6: -0.0\n",
      "x0^7: -2.4\n",
      "x0^8: -2.2\n",
      "x0^9: -0.5\n",
      "x0^10: 1.6\n"
     ]
    }
   ],
   "source": [
    "for feature, coef in zip(features, ridge2.coef_):\n",
    "    print('{}: {:.1f}'.format(feature, coef))"
   ]
  },
  {
   "cell_type": "markdown",
   "metadata": {},
   "source": [
    "## Lasso"
   ]
  },
  {
   "cell_type": "code",
   "execution_count": 14,
   "metadata": {},
   "outputs": [
    {
     "name": "stderr",
     "output_type": "stream",
     "text": [
      "C:\\Users\\eric\\Anaconda2\\envs\\exts-ada\\lib\\site-packages\\sklearn\\linear_model\\coordinate_descent.py:491: ConvergenceWarning: Objective did not converge. You might want to increase the number of iterations. Fitting data with very small alpha may cause precision problems.\n",
      "  ConvergenceWarning)\n"
     ]
    },
    {
     "data": {
      "image/png": "[encoded data removed]",
      "text/plain": [
       "<matplotlib.figure.Figure at 0x1ef01bfd6a0>"
      ]
     },
     "metadata": {},
     "output_type": "display_data"
    }
   ],
   "source": [
    "from sklearn.linear_model import Lasso\n",
    "\n",
    "# Lasso regression\n",
    "lasso = Lasso(alpha=1e-4)\n",
    "lasso.fit(X_tr, y_tr)\n",
    "\n",
    "# Plot the model\n",
    "y_values_lasso = lasso.predict(x_values_poly)\n",
    "\n",
    "plt.scatter(X_tr[:, 0], y_tr, label='train set')\n",
    "plt.scatter(X_te[:, 0], y_te, label='test set')\n",
    "plt.plot(x_values, y_values_lasso)\n",
    "plt.legend()\n",
    "plt.show()"
   ]
  },
  {
   "cell_type": "code",
   "execution_count": 15,
   "metadata": {},
   "outputs": [
    {
     "data": {
      "text/plain": [
       "Lasso(alpha=0.0001, copy_X=True, fit_intercept=True, max_iter=100000,\n",
       "   normalize=False, positive=False, precompute=False, random_state=None,\n",
       "   selection='cyclic', tol=0.0001, warm_start=False)"
      ]
     },
     "execution_count": 15,
     "metadata": {},
     "output_type": "execute_result"
    }
   ],
   "source": [
    "lasso = Lasso(alpha=1e-4, max_iter=100000)\n",
    "lasso.fit(X_tr, y_tr)"
   ]
  },
  {
   "cell_type": "code",
   "execution_count": 16,
   "metadata": {},
   "outputs": [
    {
     "name": "stdout",
     "output_type": "stream",
     "text": [
      "x0: 4.3\n",
      "x0^2: -13.1\n",
      "x0^3: 0.0\n",
      "x0^4: 8.8\n",
      "x0^5: 0.0\n",
      "x0^6: 0.0\n",
      "x0^7: -0.0\n",
      "x0^8: -0.0\n",
      "x0^9: -0.0\n",
      "x0^10: -0.7\n"
     ]
    }
   ],
   "source": [
    "for feature, coef in zip(features, lasso.coef_):\n",
    "    print('{}: {:.1f}'.format(feature, coef))"
   ]
  },
  {
   "cell_type": "markdown",
   "metadata": {},
   "source": [
    "## Grid Search"
   ]
  },
  {
   "cell_type": "code",
   "execution_count": 17,
   "metadata": {
    "collapsed": true
   },
   "outputs": [],
   "source": [
    "import pandas as pd\n",
    "\n",
    "# Load the data\n",
    "data_df = pd.read_csv('data-points.csv')\n",
    "\n",
    "# Create x, y variables\n",
    "x = data_df.x.values\n",
    "y = data_df.y.values"
   ]
  },
  {
   "cell_type": "code",
   "execution_count": 18,
   "metadata": {
    "collapsed": true
   },
   "outputs": [],
   "source": [
    "from sklearn.preprocessing import PolynomialFeatures\n",
    "import numpy as np\n",
    "\n",
    "# Create the polynomial features\n",
    "poly_obj = PolynomialFeatures(degree=10, include_bias=False)\n",
    "X_poly = poly_obj.fit_transform(x[:, np.newaxis])"
   ]
  },
  {
   "cell_type": "code",
   "execution_count": 19,
   "metadata": {
    "collapsed": true
   },
   "outputs": [],
   "source": [
    "from sklearn.model_selection import train_test_split\n",
    "\n",
    "# Split into train/test sets\n",
    "X_tr, X_te, y_tr, y_te = train_test_split(\n",
    "    X_poly, y, test_size=25, random_state=0)"
   ]
  },
  {
   "cell_type": "code",
   "execution_count": 20,
   "metadata": {
    "collapsed": true
   },
   "outputs": [],
   "source": [
    "alphas = np.logspace(-20, 10, num=100)"
   ]
  },
  {
   "cell_type": "code",
   "execution_count": 21,
   "metadata": {
    "collapsed": true
   },
   "outputs": [],
   "source": [
    "from sklearn.metrics import mean_squared_error as mse\n",
    "from sklearn.linear_model import Ridge\n",
    "\n",
    "# Save error on train/test sets\n",
    "train_scores = []\n",
    "test_scores = []\n",
    "\n",
    "# Grid search\n",
    "for alpha in alphas:\n",
    "    # Create and fit ridge regression\n",
    "    ridge = Ridge(alpha=alpha)\n",
    "    ridge.fit(X_tr, y_tr)\n",
    "\n",
    "    # Performance on train set\n",
    "    y_pred = ridge.predict(X_tr)\n",
    "    train_mse = mse(y_tr, y_pred)\n",
    "    train_scores.append(train_mse)\n",
    "\n",
    "    # Performance on test set\n",
    "    y_pred = ridge.predict(X_te)\n",
    "    test_mse = mse(y_te, y_pred)\n",
    "    test_scores.append(test_mse)"
   ]
  },
  {
   "cell_type": "code",
   "execution_count": 23,
   "metadata": {},
   "outputs": [
    {
     "data": {
      "image/png": "[encoded data removed]",
      "text/plain": [
       "<matplotlib.figure.Figure at 0x1ef000b9400>"
      ]
     },
     "metadata": {},
     "output_type": "display_data"
    }
   ],
   "source": [
    "%matplotlib inline\n",
    "import matplotlib.pyplot as plt\n",
    "\n",
    "# Plot the validation curves\n",
    "plt.semilogx(alphas, train_scores, label='train curve')\n",
    "plt.semilogx(alphas, test_scores, label='test curve')\n",
    "plt.legend()\n",
    "plt.show()"
   ]
  },
  {
   "cell_type": "code",
   "execution_count": 24,
   "metadata": {},
   "outputs": [
    {
     "name": "stdout",
     "output_type": "stream",
     "text": [
      "Best alpha value 1.1e-04 with score 0.21\n"
     ]
    }
   ],
   "source": [
    "idx = np.argmin(test_scores)\n",
    "best_alpha = alphas[idx]\n",
    "best_score = test_scores[idx]\n",
    "\n",
    "print('Best alpha value {:.1e} with score {:.2f}'.format(\n",
    "    best_alpha, best_score))"
   ]
  },
  {
   "cell_type": "code",
   "execution_count": null,
   "metadata": {
    "collapsed": true
   },
   "outputs": [],
   "source": []
  },
  {
   "cell_type": "code",
   "execution_count": null,
   "metadata": {
    "collapsed": true
   },
   "outputs": [],
   "source": []
  },
  {
   "cell_type": "code",
   "execution_count": null,
   "metadata": {
    "collapsed": true
   },
   "outputs": [],
   "source": []
  }
 ],
 "metadata": {
  "kernelspec": {
   "display_name": "Python 3",
   "language": "python",
   "name": "python3"
  },
  "language_info": {
   "codemirror_mode": {
    "name": "ipython",
    "version": 3
   },
   "file_extension": ".py",
   "mimetype": "text/x-python",
   "name": "python",
   "nbconvert_exporter": "python",
   "pygments_lexer": "ipython3",
   "version": "3.6.2"
  }
 },
 "nbformat": 4,
 "nbformat_minor": 2
}
